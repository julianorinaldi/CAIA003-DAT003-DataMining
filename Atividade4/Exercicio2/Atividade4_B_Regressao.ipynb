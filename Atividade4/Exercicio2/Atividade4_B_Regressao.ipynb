{
  "nbformat": 4,
  "nbformat_minor": 0,
  "metadata": {
    "colab": {
      "name": "Atividade4-B-Regressao.ipynb",
      "provenance": [],
      "collapsed_sections": [],
      "authorship_tag": "ABX9TyOy6OF8+UaU0I3bcrpabFSf",
      "include_colab_link": true
    },
    "kernelspec": {
      "name": "python3",
      "display_name": "Python 3"
    },
    "language_info": {
      "name": "python"
    }
  },
  "cells": [
    {
      "cell_type": "markdown",
      "metadata": {
        "id": "view-in-github",
        "colab_type": "text"
      },
      "source": [
        "<a href=\"https://colab.research.google.com/github/julianorinaldi/CAIA003-DAT003-DataMining/blob/main/Atividade4/Exercicio2/Atividade4_B_Regressao.ipynb\" target=\"_parent\"><img src=\"https://colab.research.google.com/assets/colab-badge.svg\" alt=\"Open In Colab\"/></a>"
      ]
    },
    {
      "cell_type": "code",
      "execution_count": 43,
      "metadata": {
        "colab": {
          "base_uri": "https://localhost:8080/",
          "height": 206
        },
        "id": "NdGZI0BbRn9B",
        "outputId": "32492953-54c6-4ca3-e29b-c9346489f30a"
      },
      "outputs": [
        {
          "output_type": "execute_result",
          "data": {
            "text/plain": [
              "      Nome   Ano  PrecoVenda  PrecoAtual  KmRodado TipoCombustivel Trasmissao  \\\n",
              "0     ritz  2014        3.35        5.59     27000          Petrol     Manual   \n",
              "1      sx4  2013        4.75        9.54     43000          Diesel     Manual   \n",
              "2     ciaz  2017        7.25        9.85      6900          Petrol     Manual   \n",
              "3  wagon r  2011        2.85        4.15      5200          Petrol     Manual   \n",
              "4    swift  2014        4.60        6.87     42450          Diesel     Manual   \n",
              "\n",
              "   Owner  \n",
              "0      0  \n",
              "1      0  \n",
              "2      0  \n",
              "3      0  \n",
              "4      0  "
            ],
            "text/html": [
              "\n",
              "  <div id=\"df-83515f8a-df27-40ec-b16b-ced52864deed\">\n",
              "    <div class=\"colab-df-container\">\n",
              "      <div>\n",
              "<style scoped>\n",
              "    .dataframe tbody tr th:only-of-type {\n",
              "        vertical-align: middle;\n",
              "    }\n",
              "\n",
              "    .dataframe tbody tr th {\n",
              "        vertical-align: top;\n",
              "    }\n",
              "\n",
              "    .dataframe thead th {\n",
              "        text-align: right;\n",
              "    }\n",
              "</style>\n",
              "<table border=\"1\" class=\"dataframe\">\n",
              "  <thead>\n",
              "    <tr style=\"text-align: right;\">\n",
              "      <th></th>\n",
              "      <th>Nome</th>\n",
              "      <th>Ano</th>\n",
              "      <th>PrecoVenda</th>\n",
              "      <th>PrecoAtual</th>\n",
              "      <th>KmRodado</th>\n",
              "      <th>TipoCombustivel</th>\n",
              "      <th>Trasmissao</th>\n",
              "      <th>Owner</th>\n",
              "    </tr>\n",
              "  </thead>\n",
              "  <tbody>\n",
              "    <tr>\n",
              "      <th>0</th>\n",
              "      <td>ritz</td>\n",
              "      <td>2014</td>\n",
              "      <td>3.35</td>\n",
              "      <td>5.59</td>\n",
              "      <td>27000</td>\n",
              "      <td>Petrol</td>\n",
              "      <td>Manual</td>\n",
              "      <td>0</td>\n",
              "    </tr>\n",
              "    <tr>\n",
              "      <th>1</th>\n",
              "      <td>sx4</td>\n",
              "      <td>2013</td>\n",
              "      <td>4.75</td>\n",
              "      <td>9.54</td>\n",
              "      <td>43000</td>\n",
              "      <td>Diesel</td>\n",
              "      <td>Manual</td>\n",
              "      <td>0</td>\n",
              "    </tr>\n",
              "    <tr>\n",
              "      <th>2</th>\n",
              "      <td>ciaz</td>\n",
              "      <td>2017</td>\n",
              "      <td>7.25</td>\n",
              "      <td>9.85</td>\n",
              "      <td>6900</td>\n",
              "      <td>Petrol</td>\n",
              "      <td>Manual</td>\n",
              "      <td>0</td>\n",
              "    </tr>\n",
              "    <tr>\n",
              "      <th>3</th>\n",
              "      <td>wagon r</td>\n",
              "      <td>2011</td>\n",
              "      <td>2.85</td>\n",
              "      <td>4.15</td>\n",
              "      <td>5200</td>\n",
              "      <td>Petrol</td>\n",
              "      <td>Manual</td>\n",
              "      <td>0</td>\n",
              "    </tr>\n",
              "    <tr>\n",
              "      <th>4</th>\n",
              "      <td>swift</td>\n",
              "      <td>2014</td>\n",
              "      <td>4.60</td>\n",
              "      <td>6.87</td>\n",
              "      <td>42450</td>\n",
              "      <td>Diesel</td>\n",
              "      <td>Manual</td>\n",
              "      <td>0</td>\n",
              "    </tr>\n",
              "  </tbody>\n",
              "</table>\n",
              "</div>\n",
              "      <button class=\"colab-df-convert\" onclick=\"convertToInteractive('df-83515f8a-df27-40ec-b16b-ced52864deed')\"\n",
              "              title=\"Convert this dataframe to an interactive table.\"\n",
              "              style=\"display:none;\">\n",
              "        \n",
              "  <svg xmlns=\"http://www.w3.org/2000/svg\" height=\"24px\"viewBox=\"0 0 24 24\"\n",
              "       width=\"24px\">\n",
              "    <path d=\"M0 0h24v24H0V0z\" fill=\"none\"/>\n",
              "    <path d=\"M18.56 5.44l.94 2.06.94-2.06 2.06-.94-2.06-.94-.94-2.06-.94 2.06-2.06.94zm-11 1L8.5 8.5l.94-2.06 2.06-.94-2.06-.94L8.5 2.5l-.94 2.06-2.06.94zm10 10l.94 2.06.94-2.06 2.06-.94-2.06-.94-.94-2.06-.94 2.06-2.06.94z\"/><path d=\"M17.41 7.96l-1.37-1.37c-.4-.4-.92-.59-1.43-.59-.52 0-1.04.2-1.43.59L10.3 9.45l-7.72 7.72c-.78.78-.78 2.05 0 2.83L4 21.41c.39.39.9.59 1.41.59.51 0 1.02-.2 1.41-.59l7.78-7.78 2.81-2.81c.8-.78.8-2.07 0-2.86zM5.41 20L4 18.59l7.72-7.72 1.47 1.35L5.41 20z\"/>\n",
              "  </svg>\n",
              "      </button>\n",
              "      \n",
              "  <style>\n",
              "    .colab-df-container {\n",
              "      display:flex;\n",
              "      flex-wrap:wrap;\n",
              "      gap: 12px;\n",
              "    }\n",
              "\n",
              "    .colab-df-convert {\n",
              "      background-color: #E8F0FE;\n",
              "      border: none;\n",
              "      border-radius: 50%;\n",
              "      cursor: pointer;\n",
              "      display: none;\n",
              "      fill: #1967D2;\n",
              "      height: 32px;\n",
              "      padding: 0 0 0 0;\n",
              "      width: 32px;\n",
              "    }\n",
              "\n",
              "    .colab-df-convert:hover {\n",
              "      background-color: #E2EBFA;\n",
              "      box-shadow: 0px 1px 2px rgba(60, 64, 67, 0.3), 0px 1px 3px 1px rgba(60, 64, 67, 0.15);\n",
              "      fill: #174EA6;\n",
              "    }\n",
              "\n",
              "    [theme=dark] .colab-df-convert {\n",
              "      background-color: #3B4455;\n",
              "      fill: #D2E3FC;\n",
              "    }\n",
              "\n",
              "    [theme=dark] .colab-df-convert:hover {\n",
              "      background-color: #434B5C;\n",
              "      box-shadow: 0px 1px 3px 1px rgba(0, 0, 0, 0.15);\n",
              "      filter: drop-shadow(0px 1px 2px rgba(0, 0, 0, 0.3));\n",
              "      fill: #FFFFFF;\n",
              "    }\n",
              "  </style>\n",
              "\n",
              "      <script>\n",
              "        const buttonEl =\n",
              "          document.querySelector('#df-83515f8a-df27-40ec-b16b-ced52864deed button.colab-df-convert');\n",
              "        buttonEl.style.display =\n",
              "          google.colab.kernel.accessAllowed ? 'block' : 'none';\n",
              "\n",
              "        async function convertToInteractive(key) {\n",
              "          const element = document.querySelector('#df-83515f8a-df27-40ec-b16b-ced52864deed');\n",
              "          const dataTable =\n",
              "            await google.colab.kernel.invokeFunction('convertToInteractive',\n",
              "                                                     [key], {});\n",
              "          if (!dataTable) return;\n",
              "\n",
              "          const docLinkHtml = 'Like what you see? Visit the ' +\n",
              "            '<a target=\"_blank\" href=https://colab.research.google.com/notebooks/data_table.ipynb>data table notebook</a>'\n",
              "            + ' to learn more about interactive tables.';\n",
              "          element.innerHTML = '';\n",
              "          dataTable['output_type'] = 'display_data';\n",
              "          await google.colab.output.renderOutput(dataTable, element);\n",
              "          const docLink = document.createElement('div');\n",
              "          docLink.innerHTML = docLinkHtml;\n",
              "          element.appendChild(docLink);\n",
              "        }\n",
              "      </script>\n",
              "    </div>\n",
              "  </div>\n",
              "  "
            ]
          },
          "metadata": {},
          "execution_count": 43
        }
      ],
      "source": [
        "import pandas as pd\n",
        "import numpy as np\n",
        "\n",
        "#dataset=pd.read_csv('https://drive.google.com/uc?id=1-1mDiA6uzvvfVfFH47jgJgfm6fC0g0Hb&export=download')\n",
        "dataset=pd.read_csv('https://raw.githubusercontent.com/julianorinaldi/CAIA003-DAT003-DataMining/main/Atividade4/Exercicio2/Dataset/datasetCarros%5Boriginal%5D.csv')\n",
        "dataset.head()"
      ]
    },
    {
      "cell_type": "code",
      "source": [
        "dataset.dtypes"
      ],
      "metadata": {
        "colab": {
          "base_uri": "https://localhost:8080/"
        },
        "id": "Pz4zz8B9TCpL",
        "outputId": "e0cbba9a-6917-4ecb-fe11-3034ebf86398"
      },
      "execution_count": 44,
      "outputs": [
        {
          "output_type": "execute_result",
          "data": {
            "text/plain": [
              "Nome                object\n",
              "Ano                  int64\n",
              "PrecoVenda         float64\n",
              "PrecoAtual         float64\n",
              "KmRodado             int64\n",
              "TipoCombustivel     object\n",
              "Trasmissao          object\n",
              "Owner                int64\n",
              "dtype: object"
            ]
          },
          "metadata": {},
          "execution_count": 44
        }
      ]
    },
    {
      "cell_type": "code",
      "source": [
        "X=dataset[['Nome', 'Ano', 'PrecoAtual',\t'KmRodado', 'TipoCombustivel', 'Trasmissao', 'Owner']]\n",
        "y=dataset['PrecoVenda']"
      ],
      "metadata": {
        "id": "mRSnOm3dSzOo"
      },
      "execution_count": 45,
      "outputs": []
    },
    {
      "cell_type": "markdown",
      "source": [
        "# Regressão Linear - Modelo statsmodels\n"
      ],
      "metadata": {
        "id": "m13N3-HkVKqu"
      }
    },
    {
      "cell_type": "markdown",
      "source": [
        "## a. Faça um modelo de regressão linear simples utilizando a variável 'KmRodado' para prever a 'PrecoVenda'."
      ],
      "metadata": {
        "id": "a4IYa3jaWLqC"
      }
    },
    {
      "cell_type": "code",
      "source": [
        "#Usando o statsmodels\n",
        "import statsmodels.api as sm\n",
        "\n",
        "kmRodado = sm.add_constant(X['KmRodado']) \n",
        "\n",
        "model_kmRodado = sm.OLS(y, kmRodado).fit()\n",
        "\n",
        "model_kmRodado.summary()"
      ],
      "metadata": {
        "colab": {
          "base_uri": "https://localhost:8080/",
          "height": 541
        },
        "id": "WAPiryfKTGYm",
        "outputId": "7fdadada-dc5f-4b61-bc21-f64d2ae62a5a"
      },
      "execution_count": 46,
      "outputs": [
        {
          "output_type": "stream",
          "name": "stderr",
          "text": [
            "/usr/local/lib/python3.7/dist-packages/statsmodels/tsa/tsatools.py:117: FutureWarning: In a future version of pandas all arguments of concat except for the argument 'objs' will be keyword-only\n",
            "  x = pd.concat(x[::order], 1)\n"
          ]
        },
        {
          "output_type": "execute_result",
          "data": {
            "text/plain": [
              "<class 'statsmodels.iolib.summary.Summary'>\n",
              "\"\"\"\n",
              "                            OLS Regression Results                            \n",
              "==============================================================================\n",
              "Dep. Variable:             PrecoVenda   R-squared:                       0.001\n",
              "Model:                            OLS   Adj. R-squared:                 -0.002\n",
              "Method:                 Least Squares   F-statistic:                    0.2549\n",
              "Date:                Sat, 02 Jul 2022   Prob (F-statistic):              0.614\n",
              "Time:                        01:29:37   Log-Likelihood:                -915.86\n",
              "No. Observations:                 301   AIC:                             1836.\n",
              "Df Residuals:                     299   BIC:                             1843.\n",
              "Df Model:                           1                                         \n",
              "Covariance Type:            nonrobust                                         \n",
              "==============================================================================\n",
              "                 coef    std err          t      P>|t|      [0.025      0.975]\n",
              "------------------------------------------------------------------------------\n",
              "const          4.5203      0.405     11.163      0.000       3.723       5.317\n",
              "KmRodado    3.815e-06   7.56e-06      0.505      0.614   -1.11e-05    1.87e-05\n",
              "==============================================================================\n",
              "Omnibus:                      181.357   Durbin-Watson:                   1.061\n",
              "Prob(Omnibus):                  0.000   Jarque-Bera (JB):             1261.766\n",
              "Skew:                           2.478   Prob(JB):                    1.03e-274\n",
              "Kurtosis:                      11.720   Cond. No.                     7.40e+04\n",
              "==============================================================================\n",
              "\n",
              "Warnings:\n",
              "[1] Standard Errors assume that the covariance matrix of the errors is correctly specified.\n",
              "[2] The condition number is large, 7.4e+04. This might indicate that there are\n",
              "strong multicollinearity or other numerical problems.\n",
              "\"\"\""
            ],
            "text/html": [
              "<table class=\"simpletable\">\n",
              "<caption>OLS Regression Results</caption>\n",
              "<tr>\n",
              "  <th>Dep. Variable:</th>       <td>PrecoVenda</td>    <th>  R-squared:         </th> <td>   0.001</td>\n",
              "</tr>\n",
              "<tr>\n",
              "  <th>Model:</th>                   <td>OLS</td>       <th>  Adj. R-squared:    </th> <td>  -0.002</td>\n",
              "</tr>\n",
              "<tr>\n",
              "  <th>Method:</th>             <td>Least Squares</td>  <th>  F-statistic:       </th> <td>  0.2549</td>\n",
              "</tr>\n",
              "<tr>\n",
              "  <th>Date:</th>             <td>Sat, 02 Jul 2022</td> <th>  Prob (F-statistic):</th>  <td> 0.614</td> \n",
              "</tr>\n",
              "<tr>\n",
              "  <th>Time:</th>                 <td>01:29:37</td>     <th>  Log-Likelihood:    </th> <td> -915.86</td>\n",
              "</tr>\n",
              "<tr>\n",
              "  <th>No. Observations:</th>      <td>   301</td>      <th>  AIC:               </th> <td>   1836.</td>\n",
              "</tr>\n",
              "<tr>\n",
              "  <th>Df Residuals:</th>          <td>   299</td>      <th>  BIC:               </th> <td>   1843.</td>\n",
              "</tr>\n",
              "<tr>\n",
              "  <th>Df Model:</th>              <td>     1</td>      <th>                     </th>     <td> </td>   \n",
              "</tr>\n",
              "<tr>\n",
              "  <th>Covariance Type:</th>      <td>nonrobust</td>    <th>                     </th>     <td> </td>   \n",
              "</tr>\n",
              "</table>\n",
              "<table class=\"simpletable\">\n",
              "<tr>\n",
              "      <td></td>        <th>coef</th>     <th>std err</th>      <th>t</th>      <th>P>|t|</th>  <th>[0.025</th>    <th>0.975]</th>  \n",
              "</tr>\n",
              "<tr>\n",
              "  <th>const</th>    <td>    4.5203</td> <td>    0.405</td> <td>   11.163</td> <td> 0.000</td> <td>    3.723</td> <td>    5.317</td>\n",
              "</tr>\n",
              "<tr>\n",
              "  <th>KmRodado</th> <td> 3.815e-06</td> <td> 7.56e-06</td> <td>    0.505</td> <td> 0.614</td> <td>-1.11e-05</td> <td> 1.87e-05</td>\n",
              "</tr>\n",
              "</table>\n",
              "<table class=\"simpletable\">\n",
              "<tr>\n",
              "  <th>Omnibus:</th>       <td>181.357</td> <th>  Durbin-Watson:     </th> <td>   1.061</td> \n",
              "</tr>\n",
              "<tr>\n",
              "  <th>Prob(Omnibus):</th> <td> 0.000</td>  <th>  Jarque-Bera (JB):  </th> <td>1261.766</td> \n",
              "</tr>\n",
              "<tr>\n",
              "  <th>Skew:</th>          <td> 2.478</td>  <th>  Prob(JB):          </th> <td>1.03e-274</td>\n",
              "</tr>\n",
              "<tr>\n",
              "  <th>Kurtosis:</th>      <td>11.720</td>  <th>  Cond. No.          </th> <td>7.40e+04</td> \n",
              "</tr>\n",
              "</table><br/><br/>Warnings:<br/>[1] Standard Errors assume that the covariance matrix of the errors is correctly specified.<br/>[2] The condition number is large, 7.4e+04. This might indicate that there are<br/>strong multicollinearity or other numerical problems."
            ]
          },
          "metadata": {},
          "execution_count": 46
        }
      ]
    },
    {
      "cell_type": "markdown",
      "source": [
        "# Regressão Linear - Modelo sklearn"
      ],
      "metadata": {
        "id": "fAKsXxZ8VTm4"
      }
    },
    {
      "cell_type": "markdown",
      "source": [
        "## b. Calcule o R2 para o modelo criado.\n",
        "\n",
        "R2: 0.0008518862620293666"
      ],
      "metadata": {
        "id": "pmA6EjtyXQr3"
      }
    },
    {
      "cell_type": "code",
      "source": [
        "from sklearn import linear_model\n",
        "\n",
        "regr_KmRodado = linear_model.LinearRegression()\n",
        "X_KmRodado = np.array(X['KmRodado']).reshape((-1, 1))\n",
        "regr_KmRodado.fit(X_KmRodado, y)\n",
        "r_sq = regr_KmRodado.score(X_KmRodado, y)\n",
        "print('R2:', r_sq)\n",
        "print('Intercept:', regr_KmRodado.intercept_)\n",
        "print('Slope:', regr_KmRodado.coef_) "
      ],
      "metadata": {
        "colab": {
          "base_uri": "https://localhost:8080/"
        },
        "id": "zp2o2LV8VJCv",
        "outputId": "42806f59-205b-40e2-d27a-c67e670a5f22"
      },
      "execution_count": 47,
      "outputs": [
        {
          "output_type": "stream",
          "name": "stdout",
          "text": [
            "R2: 0.0008518862620293666\n",
            "Intercept: 4.520343021594408\n",
            "Slope: [3.81497479e-06]\n"
          ]
        }
      ]
    },
    {
      "cell_type": "markdown",
      "source": [
        "## c. Separe o dataset em teste (5%) e treino (95%). Use o método 'train_test_split' do sklearn; configure o parâmetro random_state=10."
      ],
      "metadata": {
        "id": "srco2YasXi4P"
      }
    },
    {
      "cell_type": "code",
      "source": [
        "import matplotlib.pyplot as plt\n",
        "\n",
        "from sklearn.metrics import mean_squared_error, r2_score\n",
        "from sklearn.model_selection import train_test_split\n",
        "\n",
        "# Setando apenas o KmRodado\n",
        "X=dataset[['KmRodado']]\n",
        "\n",
        "# Separa dados de treino em 5%, e 95% para teste\n",
        "X_train, X_test, y_train, y_test = train_test_split(X, y, test_size=0.05, random_state=10)\n",
        "\n",
        "# Cria um objeto de regressão linear \n",
        "regr_KmRodado = linear_model.LinearRegression()\n",
        "\n",
        "# Treina o modelo usando o conjunto de treino\n",
        "regr_KmRodado.fit(X_train, y_train)\n",
        "\n",
        "# Faz predições usando o conjunto de teste \n",
        "y_pred = regr_KmRodado.predict(X_test)\n",
        "\n",
        "# Coeficientes\n",
        "print(\"Coeficiente:\", regr_KmRodado.coef_)\n",
        "\n",
        "# Mean squared error (MSE)\n",
        "print(\"Mean squared error: %.2f\" % mean_squared_error(y_test, y_pred))\n",
        "\n",
        "# O coeficiente de determinação (ou R2)\n",
        "print(\"R2 (ou coeficiente de determinação): %.2f\" % r2_score(y_test, y_pred))\n",
        "\n",
        "# Plot\n",
        "plt.scatter(X_test, y_test, color=\"black\")\n",
        "plt.plot(X_test, y_pred, color=\"blue\", linewidth=3)\n",
        "\n",
        "plt.xticks(())\n",
        "plt.yticks(())\n",
        "\n",
        "plt.show()\n",
        "    "
      ],
      "metadata": {
        "colab": {
          "base_uri": "https://localhost:8080/",
          "height": 304
        },
        "id": "5sXqlO28XjFq",
        "outputId": "e151063d-3eda-4bad-d7b4-00b2e253a23c"
      },
      "execution_count": 48,
      "outputs": [
        {
          "output_type": "stream",
          "name": "stdout",
          "text": [
            "Coeficiente: [2.69091958e-06]\n",
            "Mean squared error: 23.18\n",
            "R2 (ou coeficiente de determinação): 0.00\n"
          ]
        },
        {
          "output_type": "display_data",
          "data": {
            "text/plain": [
              "<Figure size 432x288 with 1 Axes>"
            ],
            "image/png": "[encoded data removed]"
          },
          "metadata": {}
        }
      ]
    },
    {
      "cell_type": "markdown",
      "source": [
        "## d. Treine um modelo de regressão linear múltipla no dataset de treino utilizando todas as variáveis (exceto 'Nome') para prever a 'PrecoVenda' e exiba os coeficientes do modelo."
      ],
      "metadata": {
        "id": "CTH8G3tMa4WN"
      }
    },
    {
      "cell_type": "code",
      "source": [
        "from sklearn.model_selection import train_test_split\n",
        "\n",
        "X=dataset[['Ano', 'PrecoAtual',\t'KmRodado', 'Owner']]\n",
        "X_train, X_test, y_train, y_test = train_test_split(X, y, test_size=0.30, random_state=10)"
      ],
      "metadata": {
        "id": "kpfpk1C0a7Kj"
      },
      "execution_count": 49,
      "outputs": []
    },
    {
      "cell_type": "code",
      "source": [
        "from sklearn.linear_model import LinearRegression\n",
        "\n",
        "lm=LinearRegression()\n",
        "lm.fit(X, y)\n",
        "\n",
        "print(lm.intercept_, lm.coef_)"
      ],
      "metadata": {
        "colab": {
          "base_uri": "https://localhost:8080/"
        },
        "id": "VuTGjaOPdsAD",
        "outputId": "adab1411-12a0-4645-bb41-52819628456d"
      },
      "execution_count": 50,
      "outputs": [
        {
          "output_type": "stream",
          "name": "stdout",
          "text": [
            "-1184.1607433764077 [ 5.89917156e-01 -8.73098775e-04  2.73365136e-05 -9.50400115e-01]\n"
          ]
        }
      ]
    },
    {
      "cell_type": "code",
      "source": [
        "#Usando o statsmodels\n",
        "import statsmodels.api as sm\n",
        "\n",
        "X_intercept = sm.add_constant(X) \n",
        "\n",
        "model = sm.OLS(y, X_intercept).fit()\n",
        "model.summary()"
      ],
      "metadata": {
        "colab": {
          "base_uri": "https://localhost:8080/",
          "height": 605
        },
        "id": "Dk0TAduGckPm",
        "outputId": "8492f68c-e3e2-4ad8-dc24-377bafa60b78"
      },
      "execution_count": 51,
      "outputs": [
        {
          "output_type": "stream",
          "name": "stderr",
          "text": [
            "/usr/local/lib/python3.7/dist-packages/statsmodels/tsa/tsatools.py:117: FutureWarning: In a future version of pandas all arguments of concat except for the argument 'objs' will be keyword-only\n",
            "  x = pd.concat(x[::order], 1)\n"
          ]
        },
        {
          "output_type": "execute_result",
          "data": {
            "text/plain": [
              "<class 'statsmodels.iolib.summary.Summary'>\n",
              "\"\"\"\n",
              "                            OLS Regression Results                            \n",
              "==============================================================================\n",
              "Dep. Variable:             PrecoVenda   R-squared:                       0.090\n",
              "Model:                            OLS   Adj. R-squared:                  0.078\n",
              "Method:                 Least Squares   F-statistic:                     7.356\n",
              "Date:                Sat, 02 Jul 2022   Prob (F-statistic):           1.17e-05\n",
              "Time:                        01:29:37   Log-Likelihood:                -901.72\n",
              "No. Observations:                 301   AIC:                             1813.\n",
              "Df Residuals:                     296   BIC:                             1832.\n",
              "Df Model:                           4                                         \n",
              "Covariance Type:            nonrobust                                         \n",
              "==============================================================================\n",
              "                 coef    std err          t      P>|t|      [0.025      0.975]\n",
              "------------------------------------------------------------------------------\n",
              "const      -1184.1607    235.258     -5.033      0.000   -1647.150    -721.171\n",
              "Ano            0.5899      0.117      5.053      0.000       0.360       0.820\n",
              "PrecoAtual    -0.0009      0.003     -0.342      0.732      -0.006       0.004\n",
              "KmRodado    2.734e-05   8.53e-06      3.205      0.001    1.06e-05    4.41e-05\n",
              "Owner         -0.9504      1.157     -0.821      0.412      -3.227       1.326\n",
              "==============================================================================\n",
              "Omnibus:                      185.623   Durbin-Watson:                   1.018\n",
              "Prob(Omnibus):                  0.000   Jarque-Bera (JB):             1634.581\n",
              "Skew:                           2.441   Prob(JB):                         0.00\n",
              "Kurtosis:                      13.320   Cond. No.                     4.48e+07\n",
              "==============================================================================\n",
              "\n",
              "Warnings:\n",
              "[1] Standard Errors assume that the covariance matrix of the errors is correctly specified.\n",
              "[2] The condition number is large, 4.48e+07. This might indicate that there are\n",
              "strong multicollinearity or other numerical problems.\n",
              "\"\"\""
            ],
            "text/html": [
              "<table class=\"simpletable\">\n",
              "<caption>OLS Regression Results</caption>\n",
              "<tr>\n",
              "  <th>Dep. Variable:</th>       <td>PrecoVenda</td>    <th>  R-squared:         </th> <td>   0.090</td>\n",
              "</tr>\n",
              "<tr>\n",
              "  <th>Model:</th>                   <td>OLS</td>       <th>  Adj. R-squared:    </th> <td>   0.078</td>\n",
              "</tr>\n",
              "<tr>\n",
              "  <th>Method:</th>             <td>Least Squares</td>  <th>  F-statistic:       </th> <td>   7.356</td>\n",
              "</tr>\n",
              "<tr>\n",
              "  <th>Date:</th>             <td>Sat, 02 Jul 2022</td> <th>  Prob (F-statistic):</th> <td>1.17e-05</td>\n",
              "</tr>\n",
              "<tr>\n",
              "  <th>Time:</th>                 <td>01:29:37</td>     <th>  Log-Likelihood:    </th> <td> -901.72</td>\n",
              "</tr>\n",
              "<tr>\n",
              "  <th>No. Observations:</th>      <td>   301</td>      <th>  AIC:               </th> <td>   1813.</td>\n",
              "</tr>\n",
              "<tr>\n",
              "  <th>Df Residuals:</th>          <td>   296</td>      <th>  BIC:               </th> <td>   1832.</td>\n",
              "</tr>\n",
              "<tr>\n",
              "  <th>Df Model:</th>              <td>     4</td>      <th>                     </th>     <td> </td>   \n",
              "</tr>\n",
              "<tr>\n",
              "  <th>Covariance Type:</th>      <td>nonrobust</td>    <th>                     </th>     <td> </td>   \n",
              "</tr>\n",
              "</table>\n",
              "<table class=\"simpletable\">\n",
              "<tr>\n",
              "       <td></td>         <th>coef</th>     <th>std err</th>      <th>t</th>      <th>P>|t|</th>  <th>[0.025</th>    <th>0.975]</th>  \n",
              "</tr>\n",
              "<tr>\n",
              "  <th>const</th>      <td>-1184.1607</td> <td>  235.258</td> <td>   -5.033</td> <td> 0.000</td> <td>-1647.150</td> <td> -721.171</td>\n",
              "</tr>\n",
              "<tr>\n",
              "  <th>Ano</th>        <td>    0.5899</td> <td>    0.117</td> <td>    5.053</td> <td> 0.000</td> <td>    0.360</td> <td>    0.820</td>\n",
              "</tr>\n",
              "<tr>\n",
              "  <th>PrecoAtual</th> <td>   -0.0009</td> <td>    0.003</td> <td>   -0.342</td> <td> 0.732</td> <td>   -0.006</td> <td>    0.004</td>\n",
              "</tr>\n",
              "<tr>\n",
              "  <th>KmRodado</th>   <td> 2.734e-05</td> <td> 8.53e-06</td> <td>    3.205</td> <td> 0.001</td> <td> 1.06e-05</td> <td> 4.41e-05</td>\n",
              "</tr>\n",
              "<tr>\n",
              "  <th>Owner</th>      <td>   -0.9504</td> <td>    1.157</td> <td>   -0.821</td> <td> 0.412</td> <td>   -3.227</td> <td>    1.326</td>\n",
              "</tr>\n",
              "</table>\n",
              "<table class=\"simpletable\">\n",
              "<tr>\n",
              "  <th>Omnibus:</th>       <td>185.623</td> <th>  Durbin-Watson:     </th> <td>   1.018</td>\n",
              "</tr>\n",
              "<tr>\n",
              "  <th>Prob(Omnibus):</th> <td> 0.000</td>  <th>  Jarque-Bera (JB):  </th> <td>1634.581</td>\n",
              "</tr>\n",
              "<tr>\n",
              "  <th>Skew:</th>          <td> 2.441</td>  <th>  Prob(JB):          </th> <td>    0.00</td>\n",
              "</tr>\n",
              "<tr>\n",
              "  <th>Kurtosis:</th>      <td>13.320</td>  <th>  Cond. No.          </th> <td>4.48e+07</td>\n",
              "</tr>\n",
              "</table><br/><br/>Warnings:<br/>[1] Standard Errors assume that the covariance matrix of the errors is correctly specified.<br/>[2] The condition number is large, 4.48e+07. This might indicate that there are<br/>strong multicollinearity or other numerical problems."
            ]
          },
          "metadata": {},
          "execution_count": 51
        }
      ]
    },
    {
      "cell_type": "code",
      "source": [
        "X.corr()"
      ],
      "metadata": {
        "colab": {
          "base_uri": "https://localhost:8080/",
          "height": 175
        },
        "id": "xVkM-9tWdBnw",
        "outputId": "82ffea6e-9bc2-492c-e83a-23d32bf743a4"
      },
      "execution_count": 52,
      "outputs": [
        {
          "output_type": "execute_result",
          "data": {
            "text/plain": [
              "                 Ano  PrecoAtual  KmRodado     Owner\n",
              "Ano         1.000000   -0.092304 -0.524342 -0.182104\n",
              "PrecoAtual -0.092304    1.000000 -0.007744 -0.024398\n",
              "KmRodado   -0.524342   -0.007744  1.000000  0.089216\n",
              "Owner      -0.182104   -0.024398  0.089216  1.000000"
            ],
            "text/html": [
              "\n",
              "  <div id=\"df-21974bbc-c3d5-4a0e-a1f6-dbb811aae5fa\">\n",
              "    <div class=\"colab-df-container\">\n",
              "      <div>\n",
              "<style scoped>\n",
              "    .dataframe tbody tr th:only-of-type {\n",
              "        vertical-align: middle;\n",
              "    }\n",
              "\n",
              "    .dataframe tbody tr th {\n",
              "        vertical-align: top;\n",
              "    }\n",
              "\n",
              "    .dataframe thead th {\n",
              "        text-align: right;\n",
              "    }\n",
              "</style>\n",
              "<table border=\"1\" class=\"dataframe\">\n",
              "  <thead>\n",
              "    <tr style=\"text-align: right;\">\n",
              "      <th></th>\n",
              "      <th>Ano</th>\n",
              "      <th>PrecoAtual</th>\n",
              "      <th>KmRodado</th>\n",
              "      <th>Owner</th>\n",
              "    </tr>\n",
              "  </thead>\n",
              "  <tbody>\n",
              "    <tr>\n",
              "      <th>Ano</th>\n",
              "      <td>1.000000</td>\n",
              "      <td>-0.092304</td>\n",
              "      <td>-0.524342</td>\n",
              "      <td>-0.182104</td>\n",
              "    </tr>\n",
              "    <tr>\n",
              "      <th>PrecoAtual</th>\n",
              "      <td>-0.092304</td>\n",
              "      <td>1.000000</td>\n",
              "      <td>-0.007744</td>\n",
              "      <td>-0.024398</td>\n",
              "    </tr>\n",
              "    <tr>\n",
              "      <th>KmRodado</th>\n",
              "      <td>-0.524342</td>\n",
              "      <td>-0.007744</td>\n",
              "      <td>1.000000</td>\n",
              "      <td>0.089216</td>\n",
              "    </tr>\n",
              "    <tr>\n",
              "      <th>Owner</th>\n",
              "      <td>-0.182104</td>\n",
              "      <td>-0.024398</td>\n",
              "      <td>0.089216</td>\n",
              "      <td>1.000000</td>\n",
              "    </tr>\n",
              "  </tbody>\n",
              "</table>\n",
              "</div>\n",
              "      <button class=\"colab-df-convert\" onclick=\"convertToInteractive('df-21974bbc-c3d5-4a0e-a1f6-dbb811aae5fa')\"\n",
              "              title=\"Convert this dataframe to an interactive table.\"\n",
              "              style=\"display:none;\">\n",
              "        \n",
              "  <svg xmlns=\"http://www.w3.org/2000/svg\" height=\"24px\"viewBox=\"0 0 24 24\"\n",
              "       width=\"24px\">\n",
              "    <path d=\"M0 0h24v24H0V0z\" fill=\"none\"/>\n",
              "    <path d=\"M18.56 5.44l.94 2.06.94-2.06 2.06-.94-2.06-.94-.94-2.06-.94 2.06-2.06.94zm-11 1L8.5 8.5l.94-2.06 2.06-.94-2.06-.94L8.5 2.5l-.94 2.06-2.06.94zm10 10l.94 2.06.94-2.06 2.06-.94-2.06-.94-.94-2.06-.94 2.06-2.06.94z\"/><path d=\"M17.41 7.96l-1.37-1.37c-.4-.4-.92-.59-1.43-.59-.52 0-1.04.2-1.43.59L10.3 9.45l-7.72 7.72c-.78.78-.78 2.05 0 2.83L4 21.41c.39.39.9.59 1.41.59.51 0 1.02-.2 1.41-.59l7.78-7.78 2.81-2.81c.8-.78.8-2.07 0-2.86zM5.41 20L4 18.59l7.72-7.72 1.47 1.35L5.41 20z\"/>\n",
              "  </svg>\n",
              "      </button>\n",
              "      \n",
              "  <style>\n",
              "    .colab-df-container {\n",
              "      display:flex;\n",
              "      flex-wrap:wrap;\n",
              "      gap: 12px;\n",
              "    }\n",
              "\n",
              "    .colab-df-convert {\n",
              "      background-color: #E8F0FE;\n",
              "      border: none;\n",
              "      border-radius: 50%;\n",
              "      cursor: pointer;\n",
              "      display: none;\n",
              "      fill: #1967D2;\n",
              "      height: 32px;\n",
              "      padding: 0 0 0 0;\n",
              "      width: 32px;\n",
              "    }\n",
              "\n",
              "    .colab-df-convert:hover {\n",
              "      background-color: #E2EBFA;\n",
              "      box-shadow: 0px 1px 2px rgba(60, 64, 67, 0.3), 0px 1px 3px 1px rgba(60, 64, 67, 0.15);\n",
              "      fill: #174EA6;\n",
              "    }\n",
              "\n",
              "    [theme=dark] .colab-df-convert {\n",
              "      background-color: #3B4455;\n",
              "      fill: #D2E3FC;\n",
              "    }\n",
              "\n",
              "    [theme=dark] .colab-df-convert:hover {\n",
              "      background-color: #434B5C;\n",
              "      box-shadow: 0px 1px 3px 1px rgba(0, 0, 0, 0.15);\n",
              "      filter: drop-shadow(0px 1px 2px rgba(0, 0, 0, 0.3));\n",
              "      fill: #FFFFFF;\n",
              "    }\n",
              "  </style>\n",
              "\n",
              "      <script>\n",
              "        const buttonEl =\n",
              "          document.querySelector('#df-21974bbc-c3d5-4a0e-a1f6-dbb811aae5fa button.colab-df-convert');\n",
              "        buttonEl.style.display =\n",
              "          google.colab.kernel.accessAllowed ? 'block' : 'none';\n",
              "\n",
              "        async function convertToInteractive(key) {\n",
              "          const element = document.querySelector('#df-21974bbc-c3d5-4a0e-a1f6-dbb811aae5fa');\n",
              "          const dataTable =\n",
              "            await google.colab.kernel.invokeFunction('convertToInteractive',\n",
              "                                                     [key], {});\n",
              "          if (!dataTable) return;\n",
              "\n",
              "          const docLinkHtml = 'Like what you see? Visit the ' +\n",
              "            '<a target=\"_blank\" href=https://colab.research.google.com/notebooks/data_table.ipynb>data table notebook</a>'\n",
              "            + ' to learn more about interactive tables.';\n",
              "          element.innerHTML = '';\n",
              "          dataTable['output_type'] = 'display_data';\n",
              "          await google.colab.output.renderOutput(dataTable, element);\n",
              "          const docLink = document.createElement('div');\n",
              "          docLink.innerHTML = docLinkHtml;\n",
              "          element.appendChild(docLink);\n",
              "        }\n",
              "      </script>\n",
              "    </div>\n",
              "  </div>\n",
              "  "
            ]
          },
          "metadata": {},
          "execution_count": 52
        }
      ]
    },
    {
      "cell_type": "markdown",
      "source": [
        "## e. Avalie o modelo encontrado utilizando o dataset de teste. Calcule o R2 e MSE."
      ],
      "metadata": {
        "id": "BUOtImQaeagB"
      }
    },
    {
      "cell_type": "code",
      "source": [
        " Ano=2014\n",
        " PrecoAtual=5.5\n",
        " KmRodado=3000\n",
        " Owner=0\n",
        " print(lm.predict([[Ano, PrecoAtual, KmRodado, Owner]]))"
      ],
      "metadata": {
        "colab": {
          "base_uri": "https://localhost:8080/"
        },
        "id": "6Vqe2OHhbKWk",
        "outputId": "b6fae3eb-ba2b-4bbb-fcb4-6b457da19665"
      },
      "execution_count": 53,
      "outputs": [
        {
          "output_type": "stream",
          "name": "stdout",
          "text": [
            "[4.00961628]\n"
          ]
        },
        {
          "output_type": "stream",
          "name": "stderr",
          "text": [
            "/usr/local/lib/python3.7/dist-packages/sklearn/base.py:451: UserWarning: X does not have valid feature names, but LinearRegression was fitted with feature names\n",
            "  \"X does not have valid feature names, but\"\n"
          ]
        }
      ]
    },
    {
      "cell_type": "code",
      "source": [
        "# Todas features que são numéricas\n",
        "X=dataset[['Ano', 'PrecoAtual',\t'KmRodado', 'Owner']]\n",
        "\n",
        "# Separa dados de treino em 5%, e 95% para teste\n",
        "X_train, X_test, y_train, y_test = train_test_split(X, y, test_size=0.5, random_state=10)\n",
        "\n",
        "# Cria um objeto de regressão linear \n",
        "regr = linear_model.LinearRegression()\n",
        "\n",
        "# Treina o modelo usando o conjunto de treino\n",
        "regr.fit(X_train, y_train)\n",
        "\n",
        "# Faz predições usando o conjunto de teste \n",
        "y_pred = regr.predict(X_test)\n",
        "\n",
        "# Coeficientes\n",
        "print(\"Coeficiente:\", regr.coef_)\n",
        "\n",
        "# Mean squared error (MSE)\n",
        "print(\"Mean squared error: %.2f\" % mean_squared_error(y_test, y_pred))\n",
        "\n",
        "# O coeficiente de determinação (ou R2)\n",
        "print(\"R2 (ou coeficiente de determinação): %.4f\" % r2_score(y_test, y_pred))\n",
        "\n",
        "scoresTreeReg = cross_val_score(regr, X, y, cv=5, scoring='r2')\n",
        "print(\"Validação cruzada %.4f\" % scoresTreeReg.mean())\n",
        "\n",
        "    "
      ],
      "metadata": {
        "colab": {
          "base_uri": "https://localhost:8080/"
        },
        "id": "0CHPIhLCf79Y",
        "outputId": "6ab1dfcf-e148-43b0-8e5c-9bcc68076a8e"
      },
      "execution_count": 54,
      "outputs": [
        {
          "output_type": "stream",
          "name": "stdout",
          "text": [
            "Coeficiente: [ 8.40174424e-01 -7.57888404e-04  6.57984636e-05 -7.15540633e-01]\n",
            "Mean squared error: 29.83\n",
            "R2 (ou coeficiente de determinação): -0.1014\n",
            "Validação cruzada -267.7867\n"
          ]
        }
      ]
    }
  ]
}