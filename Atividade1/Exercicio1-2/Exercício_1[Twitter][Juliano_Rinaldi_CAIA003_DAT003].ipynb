{
  "cells": [
    {
      "cell_type": "markdown",
      "metadata": {
        "id": "view-in-github",
        "colab_type": "text"
      },
      "source": [
        "<a href=\"https://colab.research.google.com/github/julianorinaldi/CAIA003-DAT003-DataMining/blob/main/Atividade1/Exercicio1-2/Exerc%C3%ADcio_1%5BTwitter%5D%5BJuliano_Rinaldi_CAIA003_DAT003%5D.ipynb\" target=\"_parent\"><img src=\"https://colab.research.google.com/assets/colab-badge.svg\" alt=\"Open In Colab\"/></a>"
      ]
    },
    {
      "cell_type": "markdown",
      "source": [
        "*   i- Instale todas as bibliotecas mencionadas na apresentação teórica sobre coleta de dados.\n",
        "*   ii- Crie uma aplicação no Twitter. Em seguida, gere os credenciais necessárias para acessar dados da\n",
        "API do Twitter.\n",
        "\n",
        "1.   Faça uma adaptação no coletor de tweets para coletar qualquer tipo de tweet compartilhado no Brasil. \n",
        "Dica: veja a documentação da biblioteca TwitterApi. Faça uma coleta por alguns minutos, salvando o resultado em um arquivo ou em um banco de dados.\n",
        "\n",
        "2.   Com base no dataset gerado na questão 1, faça:\n",
        "*   a) Separe todas as hashtags usadas nos Tweets.\n",
        "*   b) Descubra a porcentagem de tweets com hashtags.\n",
        "*   c) Identifique a hashtag mais popular.\n"
      ],
      "metadata": {
        "id": "LyybeQ-wNmzW"
      }
    },
    {
      "cell_type": "markdown",
      "metadata": {
        "id": "tvpCwX5TQlvX"
      },
      "source": [
        "# Instalação dos Pacotes Twitter"
      ]
    },
    {
      "cell_type": "code",
      "execution_count": 65,
      "metadata": {
        "colab": {
          "base_uri": "https://localhost:8080/"
        },
        "id": "YQNx0HiyOyRh",
        "outputId": "8e73a00e-6dde-49d1-98e5-5c812acb0a77"
      },
      "outputs": [
        {
          "output_type": "stream",
          "name": "stdout",
          "text": [
            "Looking in indexes: https://pypi.org/simple, https://us-python.pkg.dev/colab-wheels/public/simple/\n",
            "Requirement already satisfied: TwitterAPI in /usr/local/lib/python3.7/dist-packages (2.7.13)\n",
            "Requirement already satisfied: requests-oauthlib in /usr/local/lib/python3.7/dist-packages (from TwitterAPI) (1.3.1)\n",
            "Requirement already satisfied: requests in /usr/local/lib/python3.7/dist-packages (from TwitterAPI) (2.23.0)\n",
            "Requirement already satisfied: urllib3!=1.25.0,!=1.25.1,<1.26,>=1.21.1 in /usr/local/lib/python3.7/dist-packages (from requests->TwitterAPI) (1.24.3)\n",
            "Requirement already satisfied: chardet<4,>=3.0.2 in /usr/local/lib/python3.7/dist-packages (from requests->TwitterAPI) (3.0.4)\n",
            "Requirement already satisfied: certifi>=2017.4.17 in /usr/local/lib/python3.7/dist-packages (from requests->TwitterAPI) (2022.5.18.1)\n",
            "Requirement already satisfied: idna<3,>=2.5 in /usr/local/lib/python3.7/dist-packages (from requests->TwitterAPI) (2.10)\n",
            "Requirement already satisfied: oauthlib>=3.0.0 in /usr/local/lib/python3.7/dist-packages (from requests-oauthlib->TwitterAPI) (3.2.0)\n"
          ]
        }
      ],
      "source": [
        "!pip install TwitterAPI"
      ]
    },
    {
      "cell_type": "markdown",
      "metadata": {
        "id": "7rRcwlf_SjJs"
      },
      "source": [
        "# Importando Bibliotecas"
      ]
    },
    {
      "cell_type": "code",
      "execution_count": 66,
      "metadata": {
        "id": "kFJjVEuySoRl"
      },
      "outputs": [],
      "source": [
        "from TwitterAPI import TwitterAPI, TwitterOAuth, TwitterRequestError, TwitterConnectionError, HydrateType, OAuthType\n",
        "import json"
      ]
    },
    {
      "cell_type": "markdown",
      "metadata": {
        "id": "CQQtQrt7SqnO"
      },
      "source": [
        "# Desenvolvimento"
      ]
    },
    {
      "cell_type": "code",
      "execution_count": null,
      "metadata": {
        "id": "igdnoBuPSt-a"
      },
      "outputs": [],
      "source": [
        "file_name=\"./credentials.txt\"\n",
        "f= open(file_name,\"w\")\n",
        "f.write(\"consumer_key=XXXXXXXXXXXXXXXXXXXXXXXXXXXXXXXXXXXXXXXXXXXXXXXXXXXXX\")\n",
        "f.write(\"\\n\")\n",
        "f.write(\"consumer_secret=XXXXXXXXXXXXXXXXXXXXXXXXXXXXXXXXXXXXXXXXXXXXXXXXXXXXX\")\n",
        "f.write(\"\\n\")\n",
        "f.write(\"access_token_key=XXXXXXXXXXXXXXXXXXXXXXXXXXXXXXXXXXXXXXXXXXXXXXXXXXXXX\")\n",
        "f.write(\"\\n\")\n",
        "f.write(\"access_token_secret=XXXXXXXXXXXXXXXXXXXXXXXXXXXXXXXXXXXXXXXXXXXXXXXXXXXXX\")\n",
        "f.close()\n",
        "\n",
        "!cat credentials.txt"
      ]
    },
    {
      "cell_type": "markdown",
      "source": [
        "1- Faça uma adaptação no coletor de tweets para coletar qualquer tipo de tweet compartilhado no Brasil. \n",
        "\n",
        "Dica: veja a documentação da biblioteca TwitterApi. Faça uma coleta por alguns minutos, salvando o resultado em um arquivo ou em um banco de dados."
      ],
      "metadata": {
        "id": "TGvtffpWRHDF"
      }
    },
    {
      "cell_type": "code",
      "execution_count": 68,
      "metadata": {
        "colab": {
          "base_uri": "https://localhost:8080/"
        },
        "id": "WmJH7bivpmmM",
        "outputId": "13475ea8-ce27-4fc7-c58e-ddaf2218b7c2"
      },
      "outputs": [
        {
          "output_type": "stream",
          "name": "stdout",
          "text": [
            "1- Faça uma adaptação no coletor de tweets para coletar qualquer tipo de tweet compartilhado no Brasil. \n",
            "Dica: veja a documentação da biblioteca TwitterApi. Faça uma coleta por alguns minutos, salvando o resultado em um arquivo ou em um banco de dados.\n",
            "[200] REGRAS DELETADAS: {\n",
            "  \"meta\": {\n",
            "    \"sent\": \"2022-06-13T23:14:16.062Z\",\n",
            "    \"summary\": {\n",
            "      \"deleted\": 1,\n",
            "      \"not_deleted\": 0\n",
            "    }\n",
            "  }\n",
            "}\n",
            "\n",
            "[201] REGRAS ADICIONADAS: {\n",
            "  \"data\": [\n",
            "    {\n",
            "      \"value\": \"Brasil\",\n",
            "      \"id\": \"1536487143626915841\"\n",
            "    }\n",
            "  ],\n",
            "  \"meta\": {\n",
            "    \"sent\": \"2022-06-13T23:14:17.531Z\",\n",
            "    \"summary\": {\n",
            "      \"created\": 1,\n",
            "      \"not_created\": 0,\n",
            "      \"valid\": 1,\n",
            "      \"invalid\": 0\n",
            "    }\n",
            "  }\n",
            "}\n",
            "\n",
            "[200] REGRAS: {\n",
            "  \"data\": [\n",
            "    {\n",
            "      \"id\": \"1536487143626915841\",\n",
            "      \"value\": \"Brasil\"\n",
            "    }\n",
            "  ],\n",
            "  \"meta\": {\n",
            "    \"sent\": \"2022-06-13T23:14:17.722Z\",\n",
            "    \"result_count\": 1\n",
            "  }\n",
            "}\n",
            "\n",
            "[200] INICIANDO STREAM...\n",
            "################# Total de Twitters coletados: [10000]#########################\n"
          ]
        }
      ],
      "source": [
        "print('1- Faça uma adaptação no coletor de tweets para coletar qualquer tipo de tweet compartilhado no Brasil. ')\n",
        "print('Dica: veja a documentação da biblioteca TwitterApi. Faça uma coleta por alguns minutos, salvando o resultado em um arquivo ou em um banco de dados.')\n",
        "\n",
        "# Filtros\n",
        "QUERY = 'Brasil'\n",
        "EXPANSIONS = 'author_id'\n",
        "TWEET_FIELDS='author_id,text,source'\n",
        "USER_FIELDS='name,username,entities'\n",
        "\n",
        "#Quantidade de Twitters deseja coletar\n",
        "AMOUNT_TWITTERS = 10000\n",
        "\n",
        "o = TwitterOAuth.read_file(file_name=file_name)\n",
        "api = TwitterAPI(o.consumer_key, o.consumer_secret, auth_type=OAuthType.OAUTH2, api_version='2')\n",
        "\n",
        "# Responsável pela limpeza de todas as regras de filtros\n",
        "r = api.request('tweets/search/stream/rules', method_override='GET')\n",
        "if r.status_code != 200:\n",
        "\texit()\n",
        "\n",
        "rules=r.json()\n",
        "if not (rules.get('data') is None):\n",
        "\tids = list(map(lambda rule: rule[\"id\"], rules[\"data\"]))\n",
        "\tpayload = {\"delete\": {\"ids\": ids}}\n",
        "\tr = api.request('tweets/search/stream/rules', payload)\n",
        "\tprint(f'[{r.status_code}] REGRAS DELETADAS: {json.dumps(r.json(), indent=2)}\\n')\n",
        "\tif r.status_code != 200:\n",
        "\t\texit()\n",
        "\n",
        "# Adicionar regras ao Stream\n",
        "\n",
        "r = api.request('tweets/search/stream/rules', {'add': [{'value':QUERY}]})\n",
        "print(f'[{r.status_code}] REGRAS ADICIONADAS: {json.dumps(r.json(), indent=2)}\\n')\n",
        "if r.status_code != 201:\n",
        "\texit()\n",
        "\n",
        "# Lista regras do Stream\n",
        "\n",
        "r = api.request('tweets/search/stream/rules', method_override='GET')\n",
        "print(f'[{r.status_code}] REGRAS: {json.dumps(r.json(), indent=2)}\\n')\n",
        "if r.status_code != 200:\n",
        "\texit()\n",
        "\n",
        "# Inicia abertura do Stream para pegar Twitters\n",
        "\n",
        "r = api.request('tweets/search/stream', {\n",
        "\t\t'expansions': EXPANSIONS,\n",
        "\t\t'tweet.fields': TWEET_FIELDS,\n",
        "\t\t'user.fields': USER_FIELDS\n",
        "\t},\n",
        "\thydrate_type=HydrateType.APPEND)\n",
        "\n",
        "print(f'[{r.status_code}] INICIANDO STREAM...')\n",
        "if r.status_code != 200: \n",
        "\texit()\n",
        "\n",
        "count = 0\n",
        "with open(\"./tweets_store.json\", 'w') as json_file:\n",
        "\tjson_file.write(\"[\")\n",
        "\tfor item in r:\n",
        "\t\tcount += 1\n",
        "\t\t#print(json.dumps(item, indent=4, sort_keys=True))\n",
        "\t\t#print(f'################# Coletado  [{count}] Twitters #########################')\n",
        "\t\tjson.dump(item, json_file, indent=4, separators=(',',': '))\n",
        "\t\tif count >= AMOUNT_TWITTERS:\n",
        "\t\t\tbreak\n",
        "\t\tjson_file.write(\",\")\n",
        "\tjson_file.write(\"]\")\n",
        "\n",
        "print(f'################# Total de Twitters coletados: [{count}]#########################')\n"
      ]
    },
    {
      "cell_type": "markdown",
      "source": [
        "2- Com base no dataset gerado na questão 1, faça:\n",
        "\n",
        "a) Separe todas as hashtags usadas nos Tweets.\n",
        "\n",
        "b) Descubra a porcentagem de tweets com hashtags.\n",
        "\n",
        "c) Identifique a hashtag mais popular."
      ],
      "metadata": {
        "id": "LuCal-MEIaiz"
      }
    },
    {
      "cell_type": "code",
      "source": [
        "# Função recursiva que busca qualquer nó no Json\n",
        "def json_extract(obj, key):\n",
        "    arr = []\n",
        "\n",
        "    def extract(obj, arr, key):\n",
        "        \"\"\"Recursively search for values of key in JSON tree.\"\"\"\n",
        "        if isinstance(obj, dict):\n",
        "            for k, v in obj.items():\n",
        "                if isinstance(v, (dict, list)):\n",
        "                    extract(v, arr, key)\n",
        "                elif k == key:\n",
        "                    arr.append(v)\n",
        "        elif isinstance(obj, list):\n",
        "            for item in obj:\n",
        "                extract(item, arr, key)\n",
        "        return arr\n",
        "\n",
        "    values = extract(obj, arr, key)\n",
        "    return values\n",
        "\n",
        "f = open('tweets_store.json')\n",
        "data = json.load(f)\n",
        "f.close()\n",
        "\n",
        "# Extraindo apenas o que importa, id (identificado do twitter), tag (referente a itens do hashtag)\n",
        "print('a) Separe todas as hashtags usadas nos Tweets.')\n",
        "hashtagsDict = {}\n",
        "for dataItem in data:\n",
        "  id = dataItem['data']['id']\n",
        "  tags = json_extract(dataItem, 'tag')\n",
        "  hashtagsDict[id] = tags\n",
        "\n",
        "onlyTagsTwittersDict = dict(filter(lambda elem: len(elem[1]) > 0, hashtagsDict.items()))\n",
        "onlyTagsList = list(onlyTagsTwittersDict.values())\n",
        "print(f'Hashtags usadas nos Tweets: {onlyTagsList}')\n",
        "\n",
        "print()\n",
        "\n",
        "print('b) Descubra a porcentagem de tweets com hashtags.')\n",
        "# Quantidade de Twitters coletados\n",
        "allTwitters = len(hashtagsDict)\n",
        "# Quantidade de Twitters que possuem elementos (tags)\n",
        "percentTwitterHashtag = len(onlyTagsTwittersDict)/allTwitters * 100\n",
        "print(f'Porcentagem de tweets com hashtags: {percentTwitterHashtag}%')\n",
        "\n",
        "print()\n",
        "\n",
        "print('c) Identifique a hashtag mais popular.')\n",
        "listTags = []\n",
        "for tagArray in onlyTagsList:\n",
        "  for tag in tagArray:\n",
        "    listTags.append(tag)\n",
        "\n",
        "listCounter = {i:listTags.count(i) for i in listTags}\n",
        "listCounterOrdened = sorted(listCounter.items(), key=lambda x: x[1], reverse=True)\n",
        "print(f'A tag mais popula é: \"{listCounterOrdened[0][0]}\" com \"{listCounterOrdened[0][1]}\" repetições')\n",
        "\n",
        "print()\n",
        "\n",
        "print('Ordem das Tags mais populares')\n",
        "print(listCounterOrdened)"
      ],
      "metadata": {
        "colab": {
          "base_uri": "https://localhost:8080/"
        },
        "id": "2aYNwWH4GEEw",
        "outputId": "53909595-4c35-44c7-8185-c4dd2a2dfbc5"
      },
      "execution_count": 69,
      "outputs": [
        {
          "output_type": "stream",
          "name": "stdout",
          "text": [
            "a) Separe todas as hashtags usadas nos Tweets.\n",
            "Hashtags usadas nos Tweets: [['ForaBozo'], ['humanidades', 'comércio', 'futuros', 'artes', 'logística', 'moda', 'varejo', 'tecnologias', 'marketing', 'eClothing', 'wearables', 'história'], ['Ditaduranuncamais', 'ForaBolsonaro', 'ApoioPT', 'lulapresidente2022', 'CIÊNCIA', 'VacinaTodos'], ['MAGA', 'KAG'], ['blacklivesmatter'], ['amoBsb', 'rock', 'SalvemoCerrado', 'Quimicaévida', 'ciênciasalvavidas', 'Army', 'Gamer'], ['bullsnation'], ['Bolsonaro2022'], ['esquerdista', 'antifacista', 'forabolsonaro', 'lula2022'], ['Lula2022', 'VoltaLula'], ['BTS'], ['Lula13'], ['humanidades', 'comércio', 'futuros', 'artes', 'logística', 'moda', 'varejo', 'tecnologias', 'marketing', 'eClothing', 'wearables', 'história'], ['CAMBIACOLOMBIA'], ['EleNão'], ['DubNation'], ['MobileLegends', 'mlbb'], ['Ma10rDoBrasil', 'VerdeÉaCorDaInveja'], ['ActuallyAutistic'], ['Conhecimento', 'ignorância'], ['Mequetrefismos'], ['atleticanosegueatleticano'], ['ForaBolsonaro'], ['Fora'], ['PrefiroBichoQueGente', 'MoroeLavaJatoDestruíramOBrasil'], ['limegang'], ['Bolsonaro2022'], ['FFAA'], ['DubNation'], ['Bolsonaro22'], ['forabolsonaro'], ['TheLiberator', 'Ronaldete'], ['LulistaSegueLulista', 'EntreChavistasNosSeguimos'], ['DeusAcimaDeTodos'], ['Bolsonaro22'], ['SomosDemocracia', 'Petista', 'Vote13'], ['ForaBozo'], ['BolsonaroPresidente2026'], ['bolsonoramerepresenta'], ['forabolsonaro'], ['FechadoComBolsonaro', 'SDV'], ['TWICE'], ['WikiPorLosDerechosHumanos'], ['ForaBozo'], ['LinkPelotas', 'moisesalba', 'taxi041pelotas'], ['ForaCoisonaro', 'LulaPresidentePrimeiroTurno', 'LulaSim'], ['Bolsonaro22'], ['web3', 'Defi', 'NFTs', 'Metaverse'], ['elenão'], ['amoBsb', 'rock', 'SalvemoCerrado', 'Quimicaévida', 'ciênciasalvavidas', 'Army', 'Gamer'], ['GuidoFalaschi', 'ProhibidoOlvidar'], ['ligadeguerreros'], ['ELONGATE'], ['에스쿱스'], ['EsquerdistasSeguemEsquerdistas'], ['web3', 'Defi', 'NFTs', 'Metaverse'], ['ReactivarElTurismo'], ['forabolsonaro'], ['RTdaFla'], ['CRF'], ['WeTheNorth', 'BoltUp'], ['EleNao', 'MedTwitter'], ['LULA13'], ['lulaprimeiroturno'], ['Bolsonaro2026'], ['LigaDeGuerreros'], ['VivirSabroso'], ['AcordaBrasil', 'CorrupcaoMata'], ['RaposasegueRaposa'], ['ReformaAdministrativaParaTodos'], ['Muda'], ['fechadocombolsonaro'], ['𝑏𝑎𝑛𝑔𝑡𝑎𝑛'], ['sempreCorinthians', 'sempreAntifa'], ['Comprometida', 'Resistência'], ['EuAutorizoPresidente'], ['forabolsonaro'], ['lulapresidente', 'HaddadGovernador'], ['Earthmix', 'Offgun', 'Ohmnanon', 'KinnPorscheTheSeries'], ['Bolsonaroaté2026'], ['FORABOLSONARO'], ['wanda'], ['BOLSONARO2022'], ['FechadoComBolsonaro', 'SDV'], ['Lula2022'], ['wanda'], ['BolsonaroSempre'], ['DaleBolso'], ['EleNão', 'EleNunca', 'ResistênciaDemocrática', 'DitaduraNuncaMais'], ['EuAutorizoPresidente'], ['QueroBolsonaroAte2026'], ['ADNCaraota', 'ADNCaraota'], ['NoALaGuerra', 'RipArturo', 'NiUnaMenos', 'AdoptaNoCompres', 'NoAlMaltratoAnimal'], ['jurisTT'], ['lulapresidente2022', 'VamosJuntosPeloBrasil'], ['FechadoComBolsonaro22'], ['LULAPRESIDENTE13', 'haddadGovernadorsp'], ['FreePalestine'], ['FakeNewsNao', 'LH44'], ['Lula13', 'LulaPresidente'], ['Subida'], ['Comprometida', 'Resistência'], ['BOLSONARO'], ['aquiaverdadeaparece'], ['SempreFlamengo'], ['forabolsonaro'], ['PTNAALMA'], ['TamoJuntoPresidente', '7desetembroeuvou'], ['FunkinHS'], ['FechadoComBolsonaro22'], ['LULA'], ['MedicoCirujano', 'Potterhead', 'ftmtransgenderboy', 'ratondebiblioteca'], ['Bolsonaro2022'], ['TamoJuntoPresidente', '7desetembroeuvou'], ['FechadosComBolsonaroAte2026'], ['𝗟𝗔𝗗𝗬𝗡𝗢𝗜𝗥'], ['Bolsonaroaté2026'], ['SempreFlamengo'], ['FechadoComBolsonaro'], ['forabolsonaro'], ['PrefiroBichoQueGente', 'MoroeLavaJatoDestruíramOBrasil'], ['ConvocaTodosPRF'], ['SomosDemocracia', 'Petista', 'Vote13'], ['TamoJuntoPresidente', '7desetembroeuvou'], ['Romeista', 'Madridista', 'Yankees', 'Unam', 'CowboysNation'], ['LULA'], ['FechadoComBolsonaroAte2026'], ['Aloucadasdicas'], ['SomosDemocracia', 'Petista', 'Vote13'], ['VexRobotics'], ['EleNão', 'EleNunca', 'ResistênciaDemocrática', 'DitaduraNuncaMais'], ['VoupraguerracomBolsonaro'], ['LULA'], ['Pl2630'], ['RacistasNãoPassarão'], ['esquerdista', 'antifacista', 'forabolsonaro', 'lula2022'], ['FechadoComBolsonaro'], ['방탄소년단'], ['Ma10rDoBrasil', 'VerdeÉaCorDaInveja'], ['ForeverBlue'], ['SOSPlaneta'], ['mulherespodcasters'], ['LulaLivre', 'LulaGigante'], ['EleNão', 'EleNunca', 'ResistênciaDemocrática', 'DitaduraNuncaMais'], ['REDSTONEGANG'], ['ForaBolsonaro'], ['Deus', 'Pátria', 'Família', 'Surf', 'JiuJitsu'], ['LULA'], ['BolsonaroTemRazao', 'BolsonaroOrgulhoDoBrasil', 'EuAutorizoPresidente'], ['EntreTwitteros', 'SpacesHost'], ['EleNão', 'EleNunca', 'ResistênciaDemocrática', 'DitaduraNuncaMais'], ['LULA'], ['AdeusVelhaPolítica'], ['BolsonaroPresidenteAte2026'], ['bolsonaro2022'], ['SomosPalmeiras'], ['ConvocaTodosPRF'], ['LULA2022'], ['forabolsonaro', 'antifacista', 'vivaosus', 'vivaaciência'], ['FechadoComBolsonaro'], ['Lula', 'Haddad'], ['QbaD'], ['ÉpeloFlu'], ['REDSTONEGANG'], ['ACBenDEPORTV', 'BASQUETenDEPORTV'], ['PCD', 'proDeus', 'proVida', 'Proarmas', 'Bolsonaro2022', 'SigoDeVolta'], ['VACINA', 'LULA'], ['ForaBolsonaro', 'Ciro2022', 'Cirina'], ['studytwt'], ['DireitaUnida', 'DiretaSegueDireita', 'Sdv'], ['Bolsonaro22'], ['Bolsonaro2022'], ['ReformaAdministrativaParaTodos'], ['Bolsonaro2022'], ['VACINA', 'LULA'], ['livingandLearning'], ['BrasilTerrivelmenteLaico'], ['Sou1de11Milhoes'], ['LulaLivre', 'Averdadevencerá', 'Esquerdistasseguemesquerdistas', 'petista', 'BrasilLivre'], ['BolsonaroAte2026', 'TarcisioGoverna'], ['Lula2022'], ['Bolsonaro2022', 'STFVergonhaNacional', 'LulaNuncaMais', 'PtNuncaMais'], ['Lula2022', 'booklover', 'petlover', 'ForaBolsonaro'], ['LetsGoBuffalo'], ['FLAIRMIDABLE'], ['StrongerTogether'], ['FechadoComBolsonaro22'], ['SDV'], ['OrgulhoSerUFF'], ['Bolsonaro2022'], ['BolsonaroNossoPresidente'], ['LetsGoBuffalo'], ['Lula', 'Haddad'], ['ForaBolsonaro'], ['forabolsonaro'], ['FicaADica'], ['FORABOLSONARO', 'BRASIL', 'humor'], ['BolsonaroAte2026', 'TarcisioGoverna'], ['LulaLivre', 'LulaGigante'], ['DeusAcimaDeTodos'], ['FicaADica'], ['KeepPounding'], ['EjercitoVR'], ['SDV', 'Unf'], ['LulaPresidente13', 'Lula13', 'Lula13'], ['goLOUD', 'coringuetes', 'françapkrl'], ['BOLSONARO2022'], ['ExticaoDoPT', 'ExtincaoDoForoDeSaoPaulo', 'excluirSleepingGiantsBrasil'], ['mlbs5'], ['BARE', 'SEMCAPA', 'NOPELO', 'CUMADDICT', 'CUMFACIAL'], ['LulaLivre', 'Averdadevencerá', 'Esquerdistasseguemesquerdistas', 'petista', 'BrasilLivre'], ['ointerativista'], ['Cinema', 'Games', 'Flamengo', 'Música', 'NemLulaNemBolsonaro', 'Lavajatista', 'GoianoAtéOMilhoAcabar', 'EastEurope'], ['DubNation', 'FinalsNBA', 'GoWarriors'], ['LADYBUG'], ['I3rasil', 'paz'], ['ConvocaTodosPRF'], ['SDV', 'B38'], ['VotoAuditavelJá'], ['forabolsonaro'], ['Bolsonaro2022'], ['LGBTI', 'MatrimonioIgualitario', 'IdentidadDeGénero'], ['EleNão', 'EleNunca', 'ResistênciaDemocrática', 'DitaduraNuncaMais'], ['EsquerdaCriminosa'], ['Conservador'], ['ResistênciaEDeboche', 'VivaOSUS', 'Lula13'], ['BolsonaroPresidenteAte2026'], ['ArsenalCL'], ['BolsonaroPresidente2026'], ['ExticaoDoPT', 'ExtincaoDoForoDeSaoPaulo', 'excluirSleepingGiantsBrasil'], ['BTS'], ['FechadoComBolsonaro22'], ['YoAprueboLaNvaConstitución', 'LaConvenciónSeDefiende'], ['VxM', '𝔏𝔦𝔤𝔞𝔇𝔢𝔊𝔲𝔢𝔯𝔯𝔢𝔯𝔬𝔰'], ['FORABOLSONARO', 'BRASIL', 'humor'], ['BitcoinMining', '8YearsGang'], ['FORABOLSONARO', 'BRASIL', 'humor'], ['DELA'], ['숩닝', '젱양'], ['AntiComunistaESocialista', 'DireitaSegueDireita', 'DireitaUnida', 'Bolsonaro', 'DeixemOHomemTrabalhar'], ['Bolsonaro2022'], ['miraculous', 'bnha', 'fruitsbasket', 'tokyorevengers'], ['ForaBozo'], ['RenunciaBivarQueremosMoro'], ['EstouComBolsonaro'], ['DELA'], ['NemLulaNemBolsonaro', 'Moro2022'], ['ComBolsonaroAte2026'], ['DubNation'], ['DubNation'], ['tigre'], ['ForaBolsonaro'], ['Lula2022'], ['Bolsonaro2022'], ['Bolsonaro22'], ['SigamonosLosBuenos'], ['𝒚𝒐𝒖𝑹𝑴𝒚𝒍𝒐𝒗𝒆'], ['TeLoDije', 'ElMerluzo', 'RechazoDeSalida2022'], ['LulaPresidente2022'], ['FFAA'], ['studytwt'], ['VIDASNEGRASIMPORTAM'], ['LeftPower', 'GOpaiN'], ['ForaBolsonaro'], ['deportes', 'quedateencasa'], ['freedbritney', 'forabolsonarogenocida', 'lula2022', 'lula13'], ['REDSTONEGANG'], ['SDV'], ['SDV'], ['Radialista', 'Jornalista', 'Produtor', 'Diretor', 'SP', 'BSB', 'RJ', 'EBC', 'TvBrasil'], ['Caracas', 'PuntoFijo', 'Bogotá', 'RS'], ['Inter'], ['VamosFlamengo'], ['Esquerdopata'], ['forapaulosouza'], ['FORABOLSONARO', 'BRASIL', 'humor'], ['ElDraftDeportivo'], ['MarcoTemporalNão', 'EliminaElBloqueo', 'FreePalestine', 'FreeAssange', 'FORABOLSONARO'], ['ExticaoDoPT', 'ExtincaoDoForoDeSaoPaulo', 'excluirSleepingGiantsBrasil'], ['ExticaoDoPT', 'ExtincaoDoForoDeSaoPaulo', 'excluirSleepingGiantsBrasil'], ['Chucky'], ['FechadoComBolsonaro'], ['forabolsonaro'], ['Bolsonaro2022'], ['VotoAuditavelJa'], ['ForaBolsonaro'], ['GRÊMIO'], ['Pantanal'], ['Ad'], ['BBB'], ['FechadaComBolsonaro'], ['SDV'], ['forabolsonaro', 'Lula2022'], ['ConvocaTodosPRF'], ['BOLSONARO22'], ['BolsonaroAte2026', 'LulaNaCadeia'], ['Bolsonaro2026'], ['REDSTONEGANG'], ['VACINA', 'LULA'], ['energytransition'], ['FORABOLSONARO', 'BRASIL', 'humor'], ['NFTphotographer', 'NFTphotography', 'NFTart', 'fotografiaeNFT', 'NFTartist', 'NFTcollections', 'art', 'NFTphotographers', 'VisualArtist', 'NFTBrazilian'], ['SubmissiveTop', 'PowerBottom'], ['ForaBolsonaro'], ['10K', 'Fitness', 'YoEntrenoDondeSea', 'SiguemeyTeSigo'], ['FechadoComBolsonaro', 'Direita'], ['CiristasegueCirista'], ['forabolsonaro'], ['VamosJuntosPeloBrasil'], ['LGBT', 'Pride', 'KPop', 'Pop', 'RBDmaníaco', 'AOA', 'AceOfAngels', '9Muses', 'Apink', 'WJSN'], ['SouLula', 'freeBritney'], ['BRL', 'PBR', 'EWZ'], ['숩닝', '젱양'], ['ForaBolsonaro'], ['bolsonaro22'], ['FORABOLSONARO', 'BRASIL', 'humor'], ['bolsonarogenocidaeladrao'], ['PrefiroBichoQueGente', 'MoroeLavaJatoDestruíramOBrasil'], ['FechadoComBolsonaro22'], ['LulaLivre', 'Lula2022'], ['QueroBolsonaroAte2026'], ['AWS'], ['PrisaoEm2aInstanci'], ['bolsonaro', 'RobocomCPF', 'Deus'], ['FechadoComBolsonaro22'], ['Lula2022'], ['essereFerrari', 'CL16'], ['ForaBolsonaro'], ['SouLula', 'freeBritney'], ['Pax'], ['SAMWILSON'], ['forabolsonaro', 'bolsonarogenocida', 'bozonazifascista'], ['PositividadeSempre'], ['PrefirCiro'], ['ointerativista'], ['LakeShow'], ['PND', 'CiroPresidente', 'pdtDiversidade'], ['Lula2022'], ['ForaBolsonaroUrgente', 'Lulapresidente2022'], ['atlético', 'aquiéGalo'], ['LakeShow'], ['bolsonoramerepresenta'], ['OropeloBrasil'], ['DeusAcimaDeTodos'], ['Bolsonaro22', 'BolsonaroAte2026', 'FechadoComBolsonaro', 'RespeitemOPresidente', 'VotoImpressoAuditavelJa'], ['LulaNoPrimeiroTurno', 'HaddadGovernadorSP', 'ForaBolsonaroESeuBandoDeCriminosos'], ['EleNão'], ['lula2022'], ['Alice', 'Arthur'], ['OffGun', 'ROL'], ['PrisaoEm2aInstanci'], ['euconfionaurnaeletronica'], ['ointerativista'], ['LivingandLearning'], ['EletrobrasPública', 'PL191Nao', 'ContraPEC032', 'ContraOsAgrotóxicos'], ['jak2022'], ['ForaBolsonaro'], ['nordestina'], ['ForaBolsonaro'], ['BlackLivesMatter'], ['FreePalestine', 'FreeAssange', 'SDV'], ['ForaBolsonaro'], ['ForaBolsonaro', 'ForaVagabundo'], ['ForaBolsonaro'], ['SDV'], ['DubNation'], ['BRASIL'], ['VamosJuntosPeloBrasil'], ['Guilty'], ['LADYBUG'], ['roltaxativonão'], ['𝗸𝗶𝗿𝗶𝘀𝗵𝗶𝗺𝗮'], ['PrefirCiro'], ['ÁnimoPerú'], ['euconfionaurnaeletronica'], ['SDV'], ['forçabrasil'], ['Bolsonaro2022', 'STFVergonhaNacional', 'LulaNuncaMais', 'PtNuncaMais'], ['BolsonaroReeleito2022'], ['ᴛᴇᴀᴍɪɴᴠɪᴇʀɴᴏ', 'MorroEterno'], ['Lula13', 'Requião13'], ['RC', 'esperanza', 'fortaleza'], ['LakeShow'], ['SpacesHost'], ['forabolsonaro'], ['LineaParanormal', 'Belisario'], ['BlackLivesMatter'], ['VamosJuntosPeloBrasil'], ['LulaLivre', 'LulaGigante'], ['CARPINCHITOSGANG'], ['BRASIL'], ['Anime', 'Manga', 'MiraculousLadybug', 'Animais', 'Animals', 'Astrologia', 'Astrology', 'Tecnologia', 'Technology'], ['SomosCuba', 'HandsOffVenezuela', 'FreeAssange'], ['ForaBolsonaro', 'ForaBolsonaro', 'ForaBolsonaro', 'ForaBolsonaro', 'ForaBolsonaro', 'ForaBolsonaro', 'ForaBolsonaro', 'ForaBolsonaro', 'ForaBolsonaro', 'ForaBolsonaro', 'ForaBolso'], ['forabolsonaro'], ['JIMIN'], ['MoroOuNada'], ['PrimumNonNocere', 'SouDoMundoSouMinasGerais', 'DireitosHumanosAcimaDeTodos'], ['bolsonaro', 'RobocomCPF', 'Deus'], ['GORED', 'REDWIN', 'GOpaiN', 'DUBnation'], ['Pαnαmα', 'CostαRicα'], ['FechadoComBolsonaroAte2026'], ['ForaBolsonaro', 'ForaVagabundo'], ['txt'], ['GORED', 'REDWIN', 'GOpaiN', 'DUBnation'], ['teaminvierno', 'teammessi', 'teamroger'], ['bolsonarogenocidaeladrao'], ['Bolsonaro2022', 'STFVergonhaNacional', 'LulaNuncaMais', 'PtNuncaMais'], ['ComunicaciónPolítica', 'SocialMedia', 'Capacitación', 'CreadorContenido', 'GarraRepublicana'], ['Fora'], ['Bolsonaro'], ['Lula2022', 'LulaPresidente', 'ForaBolsonaro'], ['foraenganeis', 'elenão'], ['Bolsonaroorgulhonacional', 'Deusacimadetudo'], ['GoBolsonaroMundial'], ['FORABOLSONARO', 'BRASIL', 'humor'], ['LulaNoPrimeiroTurno'], ['ATEEZ', '에이티즈'], ['ForaMilicos', 'ForaBol卐onaro'], ['GORED', 'REDWIN', 'GOpaiN', 'DUBnation'], ['ForaBolsonaro', 'ForaVagabundo'], ['Fora'], ['yoongles', 'dianxia', 'neil'], ['ForaBolsonaro'], ['voiceover'], ['배리배리', 'ᴛʀᴇᴀsᴜʀᴇ'], ['GORED', 'REDWIN', 'GOpaiN', 'DUBnation'], ['Lulasim', 'bbb', 'nolimite', 'pantanal', 'ForaBolsonaro'], ['GORED', 'REDWIN', 'GOpaiN', 'DUBnation'], ['EnCartelera'], ['GoAvsGo', 'NJDevils', 'HockeyTwitter'], ['Bolsonaro2022'], ['Antibozonaro', 'Antimarreco'], ['EuSouOExercitoDoBrasil'], ['FechadoComBolsonaroAte2026'], ['noitecomDOTADOS', 'festaFoda'], ['Fora'], ['direitaforte', 'direitaseguedireita', 'direitasdv'], ['fechadocombolsonarosempre'], ['SDV', 'Unf'], ['REDSTONEGANG'], ['VamosJuntosPeloBrasil'], ['lulatapresobabaca', 'vazadaqui'], ['ForaBolsonaro', 'ForaVagabundo'], ['ForaBolsonaro', 'FakeNewsMata'], ['ForaBolsonaro'], ['BolsonaroAte2026'], ['lulanoprimeiroturno'], ['NanLouAnniFóbico', 'JAO'], ['lulanoprimeiroturno'], ['GORED', 'REDWIN', 'GOpaiN', 'DUBnation'], ['LulaPresidente13'], ['ClaunFrustrado'], ['GORED', 'REDWIN', 'GOpaiN', 'DUBnation'], ['TodoPoderEmanaDoPovo'], ['Ciro2022'], ['VamosJuntosPeloBrasil'], ['Ciro2022'], ['Ciro2022'], ['JuntosSomosMaisFortes', 'AcordaRioGrande', 'AcordaBRASIL'], ['Ciro2022'], ['BlackLivesMatter'], ['LulaPresidente13'], ['Bolsonaro2022'], ['ForaBolsonaro'], ['GORED', 'REDWIN', 'GOpaiN', 'DUBnation'], ['ForaBolsonaro'], ['LulaPresidente13'], ['GORED', 'REDWIN', 'GOpaiN', 'DUBnation'], ['LULA2022'], ['NemLulaNemBolsonaro', 'Moro2022'], ['ForaCoisonaro', 'LulaPresidentePrimeiroTurno', 'LulaSim'], ['ForaBolsonaro', 'ForaVagabundo'], ['FicaAdica'], ['Lula', 'LulaPresidente2022'], ['ForaBolsonaro'], ['MilitanciaPetistaPresente'], ['forabolsonaro'], ['Bolsonaro2022'], ['FORABOLSONARO', 'BRASIL', 'humor'], ['forabolsonaro', 'antifacista', 'vivaosus', 'vivaaciência'], ['EsquerdistasSeguemEsquerdistas'], ['OropeloBrasil'], ['Epidemiologist', 'injustices', 'healthcare'], ['EsquerdistasSeguemEsquerdistas'], ['Lulapresidente2022'], ['anitters', 'cirista', 'flamenguista'], ['BSC', 'ETH', 'MATIC', 'SOL'], ['LulaLivre'], ['300K'], ['LulaPresidente13'], ['noticias'], ['Poerotic'], ['CursoGratis'], ['dubnation'], ['MiCómplice', 'AmorBonito', 'LoUstedProvoca', 'PensandoEnVozAlta', 'MundoVirgo'], ['blackjack'], ['TamoJuntoPresidente'], ['ItsBeautifulNow'], ['AntiUribistaSigueAntiUribista'], ['200k'], ['MiPoTi'], ['LulaPresidente13'], ['HoraAposHora'], ['LULA2022a2030'], ['Final'], ['LulaPresidente2022'], ['Halka', 'KindleUnlimited', 'Shippo'], ['Meta50K'], ['TiburonesRojos', 'freePicks'], ['LulaPresidente13'], ['EnfTwitter', 'RStats', 'RStudio'], ['FechadocomBolsonaro'], ['BOLSONARO'], ['VidasNegrasImportam', 'RenatoFica', 'MarcoTemporalNao'], ['PapelAmigodelaTierra', 'AdoptaNoCompres'], ['Lula13'], ['14K'], ['GOpaiN'], ['Marketing', 'Publicidad', 'MarketingDigital'], ['anitters', 'cirista', 'flamenguista'], ['direitaseguedireita'], ['RBD', 'MoniGracia', 'HeLuna', 'FlaGui', 'Flarrare'], ['ChewieWeAreHome', 'DoYourJob', 'Lakernation', 'nfl', 'nba'], ['Lula2022'], ['LulaPresidente13'], ['cryptomoedas', 'NFT'], ['HandmaidsTale'], ['Jopper'], ['globolixo'], ['LulaPresidente13'], ['Nurse', 'Enfermeiro', 'Enfermeira', 'Enfermagem'], ['ForaBolsonaro'], ['CriticadeFilme', 'Lulanãoéinocente', 'Jairnãoécristão'], ['Lula13'], ['antifascista', 'forabozo'], ['LulaPresidente13'], ['LivingandLearning'], ['Bolsonaro2022', 'LulaNaCadeia', 'STFVergonhaNacional'], ['DeusNoComando', 'EuSouBolsonarista'], ['LulaPresidente2022'], ['voltahoráriodeverão'], ['FechadoComBolsonaro', 'BolsonaroNoPrimeiroTurno'], ['Vzla'], ['Lula13', 'Requião13'], ['lulapresidente'], ['1D'], ['isailtonfla'], ['pmnainformatica', 'SDV', 'AliançaPeloBrasil'], ['iphonesia', 'vaquejada', 'instagirl', 'instavicio', 'kiev', 'gintonic', 'Summer', 'tatuagem', 'nfl', 'tumblrgirl', 'fla', 'instacool', 'nba', 'nordeste'], ['NosSeguimosEntreMillos', 'River', 'SergioTips'], ['Bolsonaro'], ['LulaPresidente13'], ['Bolsonaro2022'], ['BolsonaroPresidente2026'], ['pmnainformatica', 'SDV', 'AliançaPeloBrasil'], ['art', 'illustration'], ['BolsonaroOrgulhoDoBrasil'], ['LulaPresidente13'], ['BOLSONARO2022'], ['LulaLivre'], ['JornalismoPúblico', 'ÚltimasNotícias'], ['𝘽𝘼𝙉𝙂𝙏𝘼𝙉'], ['Lula2022', 'LulaEternoPresidente', 'BoraBahêêaMinhaPorra', 'ForaBol卐onaro'], ['voltahoráriodeverão'], ['HALAMADRID'], ['Lula13', 'Requião13'], ['NemLulaNemBolsonaro'], ['C2ARI', 'MarielleFranco', 'ForaBol卐onaro'], ['vamosjuntospeloBrasil'], ['ForaBolsonaro'], ['SDV'], ['BolsonaroReeleito2022'], ['Fora'], ['C2ARI', 'MarielleFranco', 'ForaBol卐onaro'], ['gay', 'homosexual', 'marico', 'pato', 'Ateo'], ['FreePalestine', 'FreeAssange', 'SDV'], ['vamosjuntospeloBrasil'], ['BOLSONARO22'], ['BolsonaroPresidente2026'], ['Brony', 'Beatlemaniac', 'Floydian', 'Coldplayer', 'Potterhead'], ['BolsonaroReeleitoPrimeiroTurno2022', 'agro'], ['QueroBolsonaroAte2026'], ['pnd', 'progressista', 'nacionalista'], ['ForaBolsonarogenocida', 'Impeachementjá'], ['VotoAuditavelJa'], ['CRF', 'BleedGreen'], ['LulaLivre', 'BolsonaroTeEnganouBabaca', 'EsquerdistasSeguemEsquerdistas', 'ASaídaSempreSeráPelaEsquerda'], ['Bolsonaro22'], ['SinCienciaNoHayFuturo'], ['文俊辉'], ['PlanteiAMandiok'], ['VamosFlamengo'], ['Fora'], ['CRF', 'BleedGreen'], ['me'], ['EsquerdistasSeguemEsquerdistas', 'BrasilLivre', 'Filiado'], ['Bolsonaro22'], ['200k'], ['VamosJuntosPeloBrasil', 'Lula13'], ['EuAutorizoPresidente'], ['MAGA'], ['5sos', 'txt', 'louistomlinson', 'harrystyles', 'aespa'], ['FechadoComBolsonaroAte2026'], ['LulaNuncaMais'], ['FFAA'], ['globolixo'], ['BBB22'], ['BolsonaroAte2026', 'TarcisioGoverna'], ['QueroBolsonaroAte2026'], ['noalcomunismo', 'noaladictadurasanitaria', 'noalNOM'], ['Esquerdopata'], ['LulaNuncaMais'], ['PeloCorinthians'], ['globolixo'], ['HALAMADRID'], ['TeamLeclerc', 'CL16', 'essereFerrari'], ['DNA', 'QueroBolsonaroAte2026'], ['Taehyung'], ['Lula13', 'Lula'], ['LulaNuncaMais'], ['globolixo'], ['LivingAndLearning'], ['GuimaraesRosa', 'Lula2022', 'forabolsonaro'], ['VamosJuntosPeloBrasil'], ['LulaNuncaMais'], ['SDV', 'Unf'], ['loveTwitter'], ['LetEmKnow'], ['LulaPresidente2022'], ['ForaBolsonaro'], ['SOUcontraVenderAELETROBRAS'], ['FechadocomBolsonaro'], ['Misiones', 'MisionesParaTodos', 'mptnoticias'], ['QueroBolsonaroAte2026'], ['Apruebo'], ['todossomossentimoustros'], ['MoroOuNada'], ['VidasRuivasImportam'], ['HalaMadrid'], ['Nossos10'], ['votoimpressojá'], ['VotáSí', 'ElPeorGobiernoDeLaHistoria'], ['RebeldiadaEsperanca', 'PrefiroCiro'], ['FrenaEsMex', 'NoLeCreo', 'La4Tapesta'], ['actuallyautistic'], ['isles'], ['LulaNão'], ['FFAA'], ['Fora'], ['BolsonaroReeleito2022'], ['FechadoComBolsonaro', 'VotoAuditavelJa'], ['Direitaseguedireita'], ['VACINA', 'LULA'], ['SDV'], ['TrueToAtlanta', 'RaisedByWolves'], ['DCcomics', 'DCEU', 'HBOMAX', 'DCFandome', 'TheBatman'], ['SUMMER', 'texashockey'], ['Fora'], ['Atlético'], ['FechadoComBolsonaro', 'BolsonaroNoPrimeiroTurno'], ['LetEmKnow'], ['FechadoComBolsonaroAte2026'], ['AustinFC'], ['actuallyautistic'], ['VamosJuntosPeloBrasil'], ['LulaeoPovo'], ['JOANJETT'], ['AlwaysWith5HINee', 'GOT7', 'SuperJunior', 'B7OBisForever', 'MonstaX', '샤이니', 'stopasianhate', 'shinee'], ['WhyHer', 'Eve'], ['Esquerdopata'], ['EuAutorizoPresidente'], ['Fora'], ['expansãodaconsciência', 'autoconhecimento', 'poderinterior', 'despertarespiritual'], ['FechadoComBolsonaro', 'BolsonaroNoPrimeiroTurno'], ['cinema', 'audiovisual'], ['ForaBolsonaro'], ['FechadoComBolsonaro', 'BolsonaroTemRazao', 'GloboLixo', 'STFDoMal', 'LulaNaCadeia', 'PTOrganizacaoCriminosa'], ['elesim'], ['EDMFamily'], ['DireitaSegueDireita'], ['LigadeGuerreros'], ['ForaGenocida', 'Lula2022'], ['LulaPresidente13'], ['BolsonaroAte2026'], ['NemLulaNemBolsonaro', 'Moro2022'], ['LulaeoPovo'], ['ANTIFA'], ['ForaBolsopetismo'], ['ᴀɴᴛɪᴜʀɪʙɪꜱᴛᴀ'], ['Lᥙᥣᥲ13'], ['LulaeoPovo'], ['Bolivia'], ['EuAutorizoPresidente'], ['FechadoComBolsonaro', 'BolsonaroTemRazao', 'GloboLixo', 'STFDoMal', 'LulaNaCadeia', 'PTOrganizacaoCriminosa'], ['SaveLegendsOfTomorrow'], ['BOLSONAROATE2026'], ['QueroBolsonaroAte2026'], ['LulaPresidente13'], ['ForaBolsonaro'], ['LulaPresidente13'], ['FazAssimEnt'], ['SãoMiguelArcanjo', 'Blessed'], ['FechadoComBolsonaro', 'BolsonaroNoPrimeiroTurno'], ['Lula2022'], ['FORABOLSONAROEFILHOS', 'Lula13'], ['방탄소년단', 'BTS_Proof'], ['WeTheNorth', 'BoltUp'], ['DireitaSegueDireita', 'DireitaUnida', 'Bolsonaro17'], ['FechadoComBolsonaro', 'VotoAuditavelJa'], ['FechadoComBolsonaro', 'BolsonaroNoPrimeiroTurno'], ['foraBolsonaro'], ['lula13presidente'], ['GoRed'], ['IVANLUKOV'], ['AntiUribistaSigueAntiUribista', 'PactoHistorico'], ['LulaPresidente13'], ['EastIsComing'], ['elesim'], ['LulaLivre', 'BolsonaroTeEnganouBabaca', 'EsquerdistasSeguemEsquerdistas', 'ASaídaSempreSeráPelaEsquerda'], ['Fora'], ['EastIsComing'], ['SocialismoNAO'], ['BolsonaroAte2026'], ['leonina'], ['ForaBolsonaro'], ['ForaBozo'], ['MuitoEu'], ['PetLadyNoAr'], ['ForaBolsonaro'], ['Bolsonaro2022', 'STFVergonhaNacional', 'LulaNuncaMais', 'PtNuncaMais'], ['ForaBolsonaro', 'PTNuncaMais', 'CiroGomes12'], ['FechadoComBolsonaro22'], ['chairos', 'leybartlettmurio', 'TERMINASYTEVAS', '4TALV'], ['Believe'], ['BOLSONAROATE2026'], ['ForaBolsonaro'], ['oPTei'], ['WeAreDrakers', 'DrakeLaedekeBR', 'MamaGOGO'], ['CriticadeFilme', 'Lulanãoéinocente', 'Jairnãoécristão'], ['LulaPresidente13'], ['VACINA', 'LULA'], ['STFVergonhaMundial'], ['KinnPorsche', 'Triage', 'Maxtul', 'MewGulf', 'EarthMix', 'YinWar', 'BKPP', 'JoongDunk'], ['rave', 'camping'], ['PTnuncamais'], ['GoBD'], ['me'], ['VamosJuntosPeloBrasil'], ['sdv'], ['fertilizer', 'loveswimming'], ['chairos', 'leybartlettmurio', 'TERMINASYTEVAS', '4TALV'], ['ForaBolsonaroGenocida', 'ForaBolsonaroESuaQuadrilha', 'EsquerdistaSegueEsquerdista'], ['Lula', 'Haddad']]\n",
            "\n",
            "b) Descubra a porcentagem de tweets com hashtags.\n",
            "Porcentagem de tweets com hashtags: 7.539999999999999%\n",
            "\n",
            "c) Identifique a hashtag mais popular.\n",
            "A tag mais popula é: \"ForaBolsonaro\" com \"48\" repetições\n",
            "\n",
            "Ordem das Tags mais populares\n",
            "[('ForaBolsonaro', 48), ('Bolsonaro2022', 20), ('forabolsonaro', 20), ('SDV', 18), ('FechadoComBolsonaro', 17), ('LulaPresidente13', 17), ('Lula2022', 15), ('Lula13', 13), ('GOpaiN', 11), ('Fora', 10), ('FORABOLSONARO', 10), ('VamosJuntosPeloBrasil', 10), ('LULA', 10), ('LulaLivre', 10), ('BRASIL', 10), ('GORED', 9), ('REDWIN', 9), ('DUBnation', 9), ('Bolsonaro22', 8), ('BolsonaroAte2026', 8), ('LulaNuncaMais', 8), ('humor', 8), ('EleNão', 7), ('QueroBolsonaroAte2026', 7), ('FechadoComBolsonaro22', 7), ('DubNation', 6), ('EsquerdistasSeguemEsquerdistas', 6), ('EuAutorizoPresidente', 6), ('ForaBozo', 5), ('EleNunca', 5), ('ResistênciaDemocrática', 5), ('DitaduraNuncaMais', 5), ('FechadoComBolsonaroAte2026', 5), ('REDSTONEGANG', 5), ('Lula', 5), ('VACINA', 5), ('Ciro2022', 5), ('STFVergonhaNacional', 5), ('NemLulaNemBolsonaro', 5), ('LulaPresidente2022', 5), ('ForaVagabundo', 5), ('BolsonaroNoPrimeiroTurno', 5), ('antifacista', 4), ('lula2022', 4), ('FFAA', 4), ('BolsonaroPresidente2026', 4), ('FreePalestine', 4), ('TamoJuntoPresidente', 4), ('ConvocaTodosPRF', 4), ('PtNuncaMais', 4), ('ExticaoDoPT', 4), ('ExtincaoDoForoDeSaoPaulo', 4), ('excluirSleepingGiantsBrasil', 4), ('FreeAssange', 4), ('VotoAuditavelJa', 4), ('LulaNaCadeia', 4), ('ForaBol卐onaro', 4), ('globolixo', 4), ('PrefiroBichoQueGente', 3), ('MoroeLavaJatoDestruíramOBrasil', 3), ('DeusAcimaDeTodos', 3), ('SomosDemocracia', 3), ('Petista', 3), ('Vote13', 3), ('CRF', 3), ('BOLSONARO2022', 3), ('7desetembroeuvou', 3), ('LulaGigante', 3), ('Deus', 3), ('BolsonaroTemRazao', 3), ('Haddad', 3), ('DireitaUnida', 3), ('BrasilLivre', 3), ('TarcisioGoverna', 3), ('Unf', 3), ('ointerativista', 3), ('DireitaSegueDireita', 3), ('Bolsonaro', 3), ('Moro2022', 3), ('Esquerdopata', 3), ('LakeShow', 3), ('BlackLivesMatter', 3), ('BolsonaroReeleito2022', 3), ('Requião13', 3), ('LulaeoPovo', 3), ('humanidades', 2), ('comércio', 2), ('futuros', 2), ('artes', 2), ('logística', 2), ('moda', 2), ('varejo', 2), ('tecnologias', 2), ('marketing', 2), ('eClothing', 2), ('wearables', 2), ('história', 2), ('lulapresidente2022', 2), ('MAGA', 2), ('amoBsb', 2), ('rock', 2), ('SalvemoCerrado', 2), ('Quimicaévida', 2), ('ciênciasalvavidas', 2), ('Army', 2), ('Gamer', 2), ('esquerdista', 2), ('BTS', 2), ('Ma10rDoBrasil', 2), ('VerdeÉaCorDaInveja', 2), ('bolsonoramerepresenta', 2), ('ForaCoisonaro', 2), ('LulaPresidentePrimeiroTurno', 2), ('LulaSim', 2), ('web3', 2), ('Defi', 2), ('NFTs', 2), ('Metaverse', 2), ('elenão', 2), ('WeTheNorth', 2), ('BoltUp', 2), ('Bolsonaro2026', 2), ('ReformaAdministrativaParaTodos', 2), ('Comprometida', 2), ('Resistência', 2), ('lulapresidente', 2), ('Bolsonaroaté2026', 2), ('wanda', 2), ('ADNCaraota', 2), ('AdoptaNoCompres', 2), ('LulaPresidente', 2), ('BOLSONARO', 2), ('SempreFlamengo', 2), ('Potterhead', 2), ('방탄소년단', 2), ('BolsonaroOrgulhoDoBrasil', 2), ('SpacesHost', 2), ('BolsonaroPresidenteAte2026', 2), ('LULA2022', 2), ('vivaosus', 2), ('vivaaciência', 2), ('studytwt', 2), ('Averdadevencerá', 2), ('Esquerdistasseguemesquerdistas', 2), ('petista', 2), ('LetsGoBuffalo', 2), ('FicaADica', 2), ('LADYBUG', 2), ('DELA', 2), ('숩닝', 2), ('젱양', 2), ('VamosFlamengo', 2), ('BOLSONARO22', 2), ('art', 2), ('SouLula', 2), ('freeBritney', 2), ('bolsonarogenocidaeladrao', 2), ('PrisaoEm2aInstanci', 2), ('bolsonaro', 2), ('RobocomCPF', 2), ('essereFerrari', 2), ('CL16', 2), ('PrefirCiro', 2), ('Lulapresidente2022', 2), ('OropeloBrasil', 2), ('LulaNoPrimeiroTurno', 2), ('euconfionaurnaeletronica', 2), ('LivingandLearning', 2), ('MoroOuNada', 2), ('txt', 2), ('direitaseguedireita', 2), ('lulanoprimeiroturno', 2), ('anitters', 2), ('cirista', 2), ('flamenguista', 2), ('AntiUribistaSigueAntiUribista', 2), ('200k', 2), ('FechadocomBolsonaro', 2), ('nfl', 2), ('nba', 2), ('CriticadeFilme', 2), ('Lulanãoéinocente', 2), ('Jairnãoécristão', 2), ('voltahoráriodeverão', 2), ('pmnainformatica', 2), ('AliançaPeloBrasil', 2), ('HALAMADRID', 2), ('C2ARI', 2), ('MarielleFranco', 2), ('vamosjuntospeloBrasil', 2), ('BleedGreen', 2), ('BolsonaroTeEnganouBabaca', 2), ('ASaídaSempreSeráPelaEsquerda', 2), ('me', 2), ('LetEmKnow', 2), ('actuallyautistic', 2), ('GloboLixo', 2), ('STFDoMal', 2), ('PTOrganizacaoCriminosa', 2), ('elesim', 2), ('BOLSONAROATE2026', 2), ('EastIsComing', 2), ('chairos', 2), ('leybartlettmurio', 2), ('TERMINASYTEVAS', 2), ('4TALV', 2), ('Ditaduranuncamais', 1), ('ApoioPT', 1), ('CIÊNCIA', 1), ('VacinaTodos', 1), ('KAG', 1), ('blacklivesmatter', 1), ('bullsnation', 1), ('VoltaLula', 1), ('CAMBIACOLOMBIA', 1), ('MobileLegends', 1), ('mlbb', 1), ('ActuallyAutistic', 1), ('Conhecimento', 1), ('ignorância', 1), ('Mequetrefismos', 1), ('atleticanosegueatleticano', 1), ('limegang', 1), ('TheLiberator', 1), ('Ronaldete', 1), ('LulistaSegueLulista', 1), ('EntreChavistasNosSeguimos', 1), ('TWICE', 1), ('WikiPorLosDerechosHumanos', 1), ('LinkPelotas', 1), ('moisesalba', 1), ('taxi041pelotas', 1), ('GuidoFalaschi', 1), ('ProhibidoOlvidar', 1), ('ligadeguerreros', 1), ('ELONGATE', 1), ('에스쿱스', 1), ('ReactivarElTurismo', 1), ('RTdaFla', 1), ('EleNao', 1), ('MedTwitter', 1), ('LULA13', 1), ('lulaprimeiroturno', 1), ('LigaDeGuerreros', 1), ('VivirSabroso', 1), ('AcordaBrasil', 1), ('CorrupcaoMata', 1), ('RaposasegueRaposa', 1), ('Muda', 1), ('fechadocombolsonaro', 1), ('𝑏𝑎𝑛𝑔𝑡𝑎𝑛', 1), ('sempreCorinthians', 1), ('sempreAntifa', 1), ('HaddadGovernador', 1), ('Earthmix', 1), ('Offgun', 1), ('Ohmnanon', 1), ('KinnPorscheTheSeries', 1), ('BolsonaroSempre', 1), ('DaleBolso', 1), ('NoALaGuerra', 1), ('RipArturo', 1), ('NiUnaMenos', 1), ('NoAlMaltratoAnimal', 1), ('jurisTT', 1), ('LULAPRESIDENTE13', 1), ('haddadGovernadorsp', 1), ('FakeNewsNao', 1), ('LH44', 1), ('Subida', 1), ('aquiaverdadeaparece', 1), ('PTNAALMA', 1), ('FunkinHS', 1), ('MedicoCirujano', 1), ('ftmtransgenderboy', 1), ('ratondebiblioteca', 1), ('FechadosComBolsonaroAte2026', 1), ('𝗟𝗔𝗗𝗬𝗡𝗢𝗜𝗥', 1), ('Romeista', 1), ('Madridista', 1), ('Yankees', 1), ('Unam', 1), ('CowboysNation', 1), ('Aloucadasdicas', 1), ('VexRobotics', 1), ('VoupraguerracomBolsonaro', 1), ('Pl2630', 1), ('RacistasNãoPassarão', 1), ('ForeverBlue', 1), ('SOSPlaneta', 1), ('mulherespodcasters', 1), ('Pátria', 1), ('Família', 1), ('Surf', 1), ('JiuJitsu', 1), ('EntreTwitteros', 1), ('AdeusVelhaPolítica', 1), ('bolsonaro2022', 1), ('SomosPalmeiras', 1), ('QbaD', 1), ('ÉpeloFlu', 1), ('ACBenDEPORTV', 1), ('BASQUETenDEPORTV', 1), ('PCD', 1), ('proDeus', 1), ('proVida', 1), ('Proarmas', 1), ('SigoDeVolta', 1), ('Cirina', 1), ('DiretaSegueDireita', 1), ('Sdv', 1), ('livingandLearning', 1), ('BrasilTerrivelmenteLaico', 1), ('Sou1de11Milhoes', 1), ('booklover', 1), ('petlover', 1), ('FLAIRMIDABLE', 1), ('StrongerTogether', 1), ('OrgulhoSerUFF', 1), ('BolsonaroNossoPresidente', 1), ('KeepPounding', 1), ('EjercitoVR', 1), ('goLOUD', 1), ('coringuetes', 1), ('françapkrl', 1), ('mlbs5', 1), ('BARE', 1), ('SEMCAPA', 1), ('NOPELO', 1), ('CUMADDICT', 1), ('CUMFACIAL', 1), ('Cinema', 1), ('Games', 1), ('Flamengo', 1), ('Música', 1), ('Lavajatista', 1), ('GoianoAtéOMilhoAcabar', 1), ('EastEurope', 1), ('FinalsNBA', 1), ('GoWarriors', 1), ('I3rasil', 1), ('paz', 1), ('B38', 1), ('VotoAuditavelJá', 1), ('LGBTI', 1), ('MatrimonioIgualitario', 1), ('IdentidadDeGénero', 1), ('EsquerdaCriminosa', 1), ('Conservador', 1), ('ResistênciaEDeboche', 1), ('VivaOSUS', 1), ('ArsenalCL', 1), ('YoAprueboLaNvaConstitución', 1), ('LaConvenciónSeDefiende', 1), ('VxM', 1), ('𝔏𝔦𝔤𝔞𝔇𝔢𝔊𝔲𝔢𝔯𝔯𝔢𝔯𝔬𝔰', 1), ('BitcoinMining', 1), ('8YearsGang', 1), ('AntiComunistaESocialista', 1), ('DeixemOHomemTrabalhar', 1), ('miraculous', 1), ('bnha', 1), ('fruitsbasket', 1), ('tokyorevengers', 1), ('RenunciaBivarQueremosMoro', 1), ('EstouComBolsonaro', 1), ('ComBolsonaroAte2026', 1), ('tigre', 1), ('SigamonosLosBuenos', 1), ('𝒚𝒐𝒖𝑹𝑴𝒚𝒍𝒐𝒗𝒆', 1), ('TeLoDije', 1), ('ElMerluzo', 1), ('RechazoDeSalida2022', 1), ('VIDASNEGRASIMPORTAM', 1), ('LeftPower', 1), ('deportes', 1), ('quedateencasa', 1), ('freedbritney', 1), ('forabolsonarogenocida', 1), ('lula13', 1), ('Radialista', 1), ('Jornalista', 1), ('Produtor', 1), ('Diretor', 1), ('SP', 1), ('BSB', 1), ('RJ', 1), ('EBC', 1), ('TvBrasil', 1), ('Caracas', 1), ('PuntoFijo', 1), ('Bogotá', 1), ('RS', 1), ('Inter', 1), ('forapaulosouza', 1), ('ElDraftDeportivo', 1), ('MarcoTemporalNão', 1), ('EliminaElBloqueo', 1), ('Chucky', 1), ('GRÊMIO', 1), ('Pantanal', 1), ('Ad', 1), ('BBB', 1), ('FechadaComBolsonaro', 1), ('energytransition', 1), ('NFTphotographer', 1), ('NFTphotography', 1), ('NFTart', 1), ('fotografiaeNFT', 1), ('NFTartist', 1), ('NFTcollections', 1), ('NFTphotographers', 1), ('VisualArtist', 1), ('NFTBrazilian', 1), ('SubmissiveTop', 1), ('PowerBottom', 1), ('10K', 1), ('Fitness', 1), ('YoEntrenoDondeSea', 1), ('SiguemeyTeSigo', 1), ('Direita', 1), ('CiristasegueCirista', 1), ('LGBT', 1), ('Pride', 1), ('KPop', 1), ('Pop', 1), ('RBDmaníaco', 1), ('AOA', 1), ('AceOfAngels', 1), ('9Muses', 1), ('Apink', 1), ('WJSN', 1), ('BRL', 1), ('PBR', 1), ('EWZ', 1), ('bolsonaro22', 1), ('AWS', 1), ('Pax', 1), ('SAMWILSON', 1), ('bolsonarogenocida', 1), ('bozonazifascista', 1), ('PositividadeSempre', 1), ('PND', 1), ('CiroPresidente', 1), ('pdtDiversidade', 1), ('ForaBolsonaroUrgente', 1), ('atlético', 1), ('aquiéGalo', 1), ('RespeitemOPresidente', 1), ('VotoImpressoAuditavelJa', 1), ('HaddadGovernadorSP', 1), ('ForaBolsonaroESeuBandoDeCriminosos', 1), ('Alice', 1), ('Arthur', 1), ('OffGun', 1), ('ROL', 1), ('EletrobrasPública', 1), ('PL191Nao', 1), ('ContraPEC032', 1), ('ContraOsAgrotóxicos', 1), ('jak2022', 1), ('nordestina', 1), ('Guilty', 1), ('roltaxativonão', 1), ('𝗸𝗶𝗿𝗶𝘀𝗵𝗶𝗺𝗮', 1), ('ÁnimoPerú', 1), ('forçabrasil', 1), ('ᴛᴇᴀᴍɪɴᴠɪᴇʀɴᴏ', 1), ('MorroEterno', 1), ('RC', 1), ('esperanza', 1), ('fortaleza', 1), ('LineaParanormal', 1), ('Belisario', 1), ('CARPINCHITOSGANG', 1), ('Anime', 1), ('Manga', 1), ('MiraculousLadybug', 1), ('Animais', 1), ('Animals', 1), ('Astrologia', 1), ('Astrology', 1), ('Tecnologia', 1), ('Technology', 1), ('SomosCuba', 1), ('HandsOffVenezuela', 1), ('ForaBolso', 1), ('JIMIN', 1), ('PrimumNonNocere', 1), ('SouDoMundoSouMinasGerais', 1), ('DireitosHumanosAcimaDeTodos', 1), ('Pαnαmα', 1), ('CostαRicα', 1), ('teaminvierno', 1), ('teammessi', 1), ('teamroger', 1), ('ComunicaciónPolítica', 1), ('SocialMedia', 1), ('Capacitación', 1), ('CreadorContenido', 1), ('GarraRepublicana', 1), ('foraenganeis', 1), ('Bolsonaroorgulhonacional', 1), ('Deusacimadetudo', 1), ('GoBolsonaroMundial', 1), ('ATEEZ', 1), ('에이티즈', 1), ('ForaMilicos', 1), ('yoongles', 1), ('dianxia', 1), ('neil', 1), ('voiceover', 1), ('배리배리', 1), ('ᴛʀᴇᴀsᴜʀᴇ', 1), ('Lulasim', 1), ('bbb', 1), ('nolimite', 1), ('pantanal', 1), ('EnCartelera', 1), ('GoAvsGo', 1), ('NJDevils', 1), ('HockeyTwitter', 1), ('Antibozonaro', 1), ('Antimarreco', 1), ('EuSouOExercitoDoBrasil', 1), ('noitecomDOTADOS', 1), ('festaFoda', 1), ('direitaforte', 1), ('direitasdv', 1), ('fechadocombolsonarosempre', 1), ('lulatapresobabaca', 1), ('vazadaqui', 1), ('FakeNewsMata', 1), ('NanLouAnniFóbico', 1), ('JAO', 1), ('ClaunFrustrado', 1), ('TodoPoderEmanaDoPovo', 1), ('JuntosSomosMaisFortes', 1), ('AcordaRioGrande', 1), ('AcordaBRASIL', 1), ('FicaAdica', 1), ('MilitanciaPetistaPresente', 1), ('Epidemiologist', 1), ('injustices', 1), ('healthcare', 1), ('BSC', 1), ('ETH', 1), ('MATIC', 1), ('SOL', 1), ('300K', 1), ('noticias', 1), ('Poerotic', 1), ('CursoGratis', 1), ('dubnation', 1), ('MiCómplice', 1), ('AmorBonito', 1), ('LoUstedProvoca', 1), ('PensandoEnVozAlta', 1), ('MundoVirgo', 1), ('blackjack', 1), ('ItsBeautifulNow', 1), ('MiPoTi', 1), ('HoraAposHora', 1), ('LULA2022a2030', 1), ('Final', 1), ('Halka', 1), ('KindleUnlimited', 1), ('Shippo', 1), ('Meta50K', 1), ('TiburonesRojos', 1), ('freePicks', 1), ('EnfTwitter', 1), ('RStats', 1), ('RStudio', 1), ('VidasNegrasImportam', 1), ('RenatoFica', 1), ('MarcoTemporalNao', 1), ('PapelAmigodelaTierra', 1), ('14K', 1), ('Marketing', 1), ('Publicidad', 1), ('MarketingDigital', 1), ('RBD', 1), ('MoniGracia', 1), ('HeLuna', 1), ('FlaGui', 1), ('Flarrare', 1), ('ChewieWeAreHome', 1), ('DoYourJob', 1), ('Lakernation', 1), ('cryptomoedas', 1), ('NFT', 1), ('HandmaidsTale', 1), ('Jopper', 1), ('Nurse', 1), ('Enfermeiro', 1), ('Enfermeira', 1), ('Enfermagem', 1), ('antifascista', 1), ('forabozo', 1), ('DeusNoComando', 1), ('EuSouBolsonarista', 1), ('Vzla', 1), ('1D', 1), ('isailtonfla', 1), ('iphonesia', 1), ('vaquejada', 1), ('instagirl', 1), ('instavicio', 1), ('kiev', 1), ('gintonic', 1), ('Summer', 1), ('tatuagem', 1), ('tumblrgirl', 1), ('fla', 1), ('instacool', 1), ('nordeste', 1), ('NosSeguimosEntreMillos', 1), ('River', 1), ('SergioTips', 1), ('illustration', 1), ('JornalismoPúblico', 1), ('ÚltimasNotícias', 1), ('𝘽𝘼𝙉𝙂𝙏𝘼𝙉', 1), ('LulaEternoPresidente', 1), ('BoraBahêêaMinhaPorra', 1), ('gay', 1), ('homosexual', 1), ('marico', 1), ('pato', 1), ('Ateo', 1), ('Brony', 1), ('Beatlemaniac', 1), ('Floydian', 1), ('Coldplayer', 1), ('BolsonaroReeleitoPrimeiroTurno2022', 1), ('agro', 1), ('pnd', 1), ('progressista', 1), ('nacionalista', 1), ('ForaBolsonarogenocida', 1), ('Impeachementjá', 1), ('SinCienciaNoHayFuturo', 1), ('文俊辉', 1), ('PlanteiAMandiok', 1), ('Filiado', 1), ('5sos', 1), ('louistomlinson', 1), ('harrystyles', 1), ('aespa', 1), ('BBB22', 1), ('noalcomunismo', 1), ('noaladictadurasanitaria', 1), ('noalNOM', 1), ('PeloCorinthians', 1), ('TeamLeclerc', 1), ('DNA', 1), ('Taehyung', 1), ('LivingAndLearning', 1), ('GuimaraesRosa', 1), ('loveTwitter', 1), ('SOUcontraVenderAELETROBRAS', 1), ('Misiones', 1), ('MisionesParaTodos', 1), ('mptnoticias', 1), ('Apruebo', 1), ('todossomossentimoustros', 1), ('VidasRuivasImportam', 1), ('HalaMadrid', 1), ('Nossos10', 1), ('votoimpressojá', 1), ('VotáSí', 1), ('ElPeorGobiernoDeLaHistoria', 1), ('RebeldiadaEsperanca', 1), ('PrefiroCiro', 1), ('FrenaEsMex', 1), ('NoLeCreo', 1), ('La4Tapesta', 1), ('isles', 1), ('LulaNão', 1), ('Direitaseguedireita', 1), ('TrueToAtlanta', 1), ('RaisedByWolves', 1), ('DCcomics', 1), ('DCEU', 1), ('HBOMAX', 1), ('DCFandome', 1), ('TheBatman', 1), ('SUMMER', 1), ('texashockey', 1), ('Atlético', 1), ('AustinFC', 1), ('JOANJETT', 1), ('AlwaysWith5HINee', 1), ('GOT7', 1), ('SuperJunior', 1), ('B7OBisForever', 1), ('MonstaX', 1), ('샤이니', 1), ('stopasianhate', 1), ('shinee', 1), ('WhyHer', 1), ('Eve', 1), ('expansãodaconsciência', 1), ('autoconhecimento', 1), ('poderinterior', 1), ('despertarespiritual', 1), ('cinema', 1), ('audiovisual', 1), ('EDMFamily', 1), ('LigadeGuerreros', 1), ('ForaGenocida', 1), ('ANTIFA', 1), ('ForaBolsopetismo', 1), ('ᴀɴᴛɪᴜʀɪʙɪꜱᴛᴀ', 1), ('Lᥙᥣᥲ13', 1), ('Bolivia', 1), ('SaveLegendsOfTomorrow', 1), ('FazAssimEnt', 1), ('SãoMiguelArcanjo', 1), ('Blessed', 1), ('FORABOLSONAROEFILHOS', 1), ('BTS_Proof', 1), ('Bolsonaro17', 1), ('foraBolsonaro', 1), ('lula13presidente', 1), ('GoRed', 1), ('IVANLUKOV', 1), ('PactoHistorico', 1), ('SocialismoNAO', 1), ('leonina', 1), ('MuitoEu', 1), ('PetLadyNoAr', 1), ('PTNuncaMais', 1), ('CiroGomes12', 1), ('Believe', 1), ('oPTei', 1), ('WeAreDrakers', 1), ('DrakeLaedekeBR', 1), ('MamaGOGO', 1), ('STFVergonhaMundial', 1), ('KinnPorsche', 1), ('Triage', 1), ('Maxtul', 1), ('MewGulf', 1), ('EarthMix', 1), ('YinWar', 1), ('BKPP', 1), ('JoongDunk', 1), ('rave', 1), ('camping', 1), ('PTnuncamais', 1), ('GoBD', 1), ('sdv', 1), ('fertilizer', 1), ('loveswimming', 1), ('ForaBolsonaroGenocida', 1), ('ForaBolsonaroESuaQuadrilha', 1), ('EsquerdistaSegueEsquerdista', 1)]\n"
          ]
        }
      ]
    }
  ],
  "metadata": {
    "colab": {
      "name": "Exercício-1[Twitter][Juliano-Rinaldi-CAIA003-DAT003].ipynb",
      "provenance": [],
      "collapsed_sections": [],
      "authorship_tag": "ABX9TyMbcfE7di8tMgRrtB9KZnjZ",
      "include_colab_link": true
    },
    "kernelspec": {
      "display_name": "Python 3",
      "name": "python3"
    },
    "language_info": {
      "name": "python"
    }
  },
  "nbformat": 4,
  "nbformat_minor": 0
}