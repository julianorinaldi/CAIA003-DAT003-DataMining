{
  "nbformat": 4,
  "nbformat_minor": 0,
  "metadata": {
    "colab": {
      "name": "Exercício-1[ExtractViews][Juliano-Rinaldi-CAIA003-DAT003].ipynb",
      "provenance": [],
      "authorship_tag": "ABX9TyMvvkaUmbRtBDzzXiAVGBnW",
      "include_colab_link": true
    },
    "kernelspec": {
      "name": "python3",
      "display_name": "Python 3"
    },
    "language_info": {
      "name": "python"
    }
  },
  "cells": [
    {
      "cell_type": "markdown",
      "metadata": {
        "id": "view-in-github",
        "colab_type": "text"
      },
      "source": [
        "<a href=\"https://colab.research.google.com/github/julianorinaldi/CAIA003-DAT003-DataMining/blob/main/Atividade1/Exercicio3/Exerc%C3%ADcio_1%5BExtractViews%5D%5BJuliano_Rinaldi_CAIA003_DAT003%5D.ipynb\" target=\"_parent\"><img src=\"https://colab.research.google.com/assets/colab-badge.svg\" alt=\"Open In Colab\"/></a>"
      ]
    },
    {
      "cell_type": "code",
      "execution_count": null,
      "metadata": {
        "id": "6GOU9o8u0UnP"
      },
      "outputs": [],
      "source": [
        "import requests\n",
        "from bs4 import BeautifulSoup"
      ]
    },
    {
      "cell_type": "code",
      "source": [
        "url = 'https://www.apontador.com.br/local/sp/campinas/faculdades_e_universidades/88Q2E372/unicamp.html'"
      ],
      "metadata": {
        "id": "hA3IMzLFHMaj"
      },
      "execution_count": null,
      "outputs": []
    },
    {
      "cell_type": "markdown",
      "source": [
        "# Modelo com apenas o texto do Review"
      ],
      "metadata": {
        "id": "27UgBH_IHUd0"
      }
    },
    {
      "cell_type": "code",
      "source": [
        "\n",
        "try:\n",
        "  r = requests.get(url)\n",
        "  if r.status_code != 200: \n",
        "    exit()\n",
        "\n",
        "  soup = BeautifulSoup(r.text)\n",
        "  reviews = soup.find_all('div',{'class':'store-comments__text'})\n",
        "  for review in reviews:\n",
        "    print(review)\n",
        "\n",
        "except Exception as e:\n",
        "\tprint(e)\n",
        "\n",
        "!cat ./reviews.html"
      ],
      "metadata": {
        "colab": {
          "base_uri": "https://localhost:8080/"
        },
        "id": "-TwBK61q0mWL",
        "outputId": "b435a6fb-bf18-4a02-c433-b3e01f30e7fa"
      },
      "execution_count": null,
      "outputs": [
        {
          "output_type": "stream",
          "name": "stdout",
          "text": [
            "<div class=\"store-comments__text\"> <p>Unicamp é umas das mais cobiçadas universidades de Campinas e região, devido a sua imensa qualidade, por ser federal se torna a melhor faculdade da região. Sem contar o seu Campus que é sensacional, como se fosse uma cidade, possui quadras com prédios, até uma linha de ônibus circular que permanece dentro do campus apenas devido o seu tamanho. A universidade conta também com o Hospital das Clínicas, gratuito pelo SUS e administrar o hospital de Sumaré. As provas para ingressar na faculdade são por fases com respostas alternativas e requisitando cerca de 3 redações o número de candidatos por vaga é bem alto principalmente no curso de medicina, o problema fica no pagamento do vestibular que é cerca de 120~140 reais para poder executa-la. A graduação é em tempo integral com isso a faculdade possui centro de pesquisas, onde é possível fazer iniciações cientificas ou mini empresas, para que os alunos tenham uma breve praticidade no mercado de trabalho devido a dificuldade para o estagio devido ao tempo integral em aula.</p> </div>\n",
            "<div class=\"store-comments__text\"> <p>A unicamp é a maior universidade de Campinas, possuindo, inclusive, ônibus de circulação interna. O campus principal fica localizado no distrito de Barão Geraldo, em Campinas, mas há ainda outros campus menores em Limeira e Piracicaba. A universidade integra o ranking de melhores universidades do Brasil e hospeda em Campinas o Hospital das Clínicas, com atendimento gratuito integralmente pelo SUS, além de também administrar um hospital em Sumaré. Antigamente, a universidade era conhecida pela complexidade do vestibular, que consistia de forma descritiva em ambas as fases. Hoje, a universidade se adequou ao sistema de respostas alternativas, porém, começou a requisitar 3 redações, e o número de candidatos por vaga continua bastante alto. Ela também é conhecida pelo investimento em pesquisas e pelo desenvolvimento de novos projetos. A biblioteca central é gigantesca e possui inúmeros títulos disponíveis para locação e, de acordo com o tipo de formação (graduação, mestrado, doutorado), é possível pegar mais livros. Cada curso possui um centro específico, excepto pelo pessoal da Engenharia que possui o Ciclo Básico para todos os cursos. A universidade ainda disponibiliza moradia para os alunos carentes e que comprovarem não ter condições de se manter. </p> </div>\n",
            "<div class=\"store-comments__text\"> <p> Eita como Barao Geraldo e friooooooo aff</p> </div>\n",
            "<div class=\"store-comments__text\"> <p>É muito agradável estudar em um campus grande, com muitas locais para estudar: mesas no ciclo básico, biblioteca central ou de outros institutos, uma sala vazia... Uma universidade excelente não só pelo ensino, mas pelos pessoas, colegas e professores que realmente fazem o lugar.</p> </div>\n",
            "<div class=\"store-comments__text\"> <p>Cursei engenharia de computação na Unicamp e foram os melhores anos da minha vida. O ambiente universitário, a abundância de conhecimento ao meu redor em todas as áreas, tudo isso contribuiu para minha formação, não apenas técnica. Voltaria a qualquer momento e a recomendo para quem quiser usufruir do melhor ensino do país, estando apto a pagar com a dedicação necessária.</p> </div>\n",
            "<div class=\"store-comments__text\"> <p>A UNICAMP é uma universidade muito boa. O fato de estar um pouco distante de Campinas (40 mins) promove uma experiência diferenciada, criando uma comunidade muito mais engajada. A qualidade do ensino é de padrão mundial. Orgulho de ser ex-aluno!</p> </div>\n"
          ]
        }
      ]
    },
    {
      "cell_type": "markdown",
      "source": [
        "# Modelo com mais informações (completas)"
      ],
      "metadata": {
        "id": "U6Wj2z3-HPqA"
      }
    },
    {
      "cell_type": "code",
      "source": [
        "try:\n",
        "  r = requests.get(url)\n",
        "  if r.status_code != 200: \n",
        "    exit()\n",
        "  \n",
        "  soup = BeautifulSoup(r.text)\n",
        "  reviewContainer = soup.find('div',{'class':'store-comments__container'})\n",
        "  children = reviewContainer.findChildren(\"div\" , recursive=False)\n",
        "  for child in children:\n",
        "    print(child)\n",
        "\n",
        "except Exception as e:\n",
        "\tprint(e)\n",
        "\n"
      ],
      "metadata": {
        "colab": {
          "base_uri": "https://localhost:8080/"
        },
        "id": "ckTz5fdiGWsA",
        "outputId": "6efbba47-f738-4ae7-8bb9-2c2ccb2bc9b0"
      },
      "execution_count": null,
      "outputs": [
        {
          "output_type": "stream",
          "name": "stdout",
          "text": [
            "<div class=\"store-comments__item\"> <div class=\"store-comments__origin\"> <div class=\"store-comments__header\"> <div class=\"store-comments__avatar\"> <img alt=\"Renan Cunha De Sousa\" src=\"https://dmyxv0skgo2mq.cloudfront.net/9482247863/9482247863_4124445476214059275-m.jpg\"/> </div> <p><span class=\"name\">Renan Cunha De Sousa</span></p> </div> <div class=\"rate-stars\"> <ul> <li><img alt=\"\" src=\"https://newpoi-assets.apontador.com.br/website/assets/img/icons/star-checked.svg\"/></li> <li><img alt=\"\" src=\"https://newpoi-assets.apontador.com.br/website/assets/img/icons/star-checked.svg\"/></li> <li><img alt=\"\" src=\"https://newpoi-assets.apontador.com.br/website/assets/img/icons/star-checked.svg\"/></li> <li><img alt=\"\" src=\"https://newpoi-assets.apontador.com.br/website/assets/img/icons/star-checked.svg\"/></li> <li><img alt=\"\" src=\"https://newpoi-assets.apontador.com.br/website/assets/img/icons/star-checked.svg\"/></li> </ul> <span class=\"rate-stars__amount\">publicada em 05/01/2015</span> </div> </div> <div class=\"store-comments__text\"> <p>Unicamp é umas das mais cobiçadas universidades de Campinas e região, devido a sua imensa qualidade, por ser federal se torna a melhor faculdade da região. Sem contar o seu Campus que é sensacional, como se fosse uma cidade, possui quadras com prédios, até uma linha de ônibus circular que permanece dentro do campus apenas devido o seu tamanho. A universidade conta também com o Hospital das Clínicas, gratuito pelo SUS e administrar o hospital de Sumaré. As provas para ingressar na faculdade são por fases com respostas alternativas e requisitando cerca de 3 redações o número de candidatos por vaga é bem alto principalmente no curso de medicina, o problema fica no pagamento do vestibular que é cerca de 120~140 reais para poder executa-la. A graduação é em tempo integral com isso a faculdade possui centro de pesquisas, onde é possível fazer iniciações cientificas ou mini empresas, para que os alunos tenham uma breve praticidade no mercado de trabalho devido a dificuldade para o estagio devido ao tempo integral em aula.</p> </div> </div>\n",
            "<div class=\"store-comments__item\"> <div class=\"store-comments__origin\"> <div class=\"store-comments__header\"> <div class=\"store-comments__avatar\"> <img alt=\"Larissa Bannwart\" src=\"https://dmyxv0skgo2mq.cloudfront.net/4971212228/4971212228_7033969974538617600-m.jpg\"/> </div> <p><span class=\"name\">Larissa Bannwart</span></p> </div> <div class=\"rate-stars\"> <ul> <li><img alt=\"\" src=\"https://newpoi-assets.apontador.com.br/website/assets/img/icons/star-checked.svg\"/></li> <li><img alt=\"\" src=\"https://newpoi-assets.apontador.com.br/website/assets/img/icons/star-checked.svg\"/></li> <li><img alt=\"\" src=\"https://newpoi-assets.apontador.com.br/website/assets/img/icons/star-checked.svg\"/></li> <li><img alt=\"\" src=\"https://newpoi-assets.apontador.com.br/website/assets/img/icons/star-checked.svg\"/></li> <li><img alt=\"\" src=\"https://newpoi-assets.apontador.com.br/website/assets/img/icons/star-checked.svg\"/></li> </ul> <span class=\"rate-stars__amount\">publicada em 30/12/2014</span> </div> </div> <div class=\"store-comments__text\"> <p>A unicamp é a maior universidade de Campinas, possuindo, inclusive, ônibus de circulação interna. O campus principal fica localizado no distrito de Barão Geraldo, em Campinas, mas há ainda outros campus menores em Limeira e Piracicaba. A universidade integra o ranking de melhores universidades do Brasil e hospeda em Campinas o Hospital das Clínicas, com atendimento gratuito integralmente pelo SUS, além de também administrar um hospital em Sumaré. Antigamente, a universidade era conhecida pela complexidade do vestibular, que consistia de forma descritiva em ambas as fases. Hoje, a universidade se adequou ao sistema de respostas alternativas, porém, começou a requisitar 3 redações, e o número de candidatos por vaga continua bastante alto. Ela também é conhecida pelo investimento em pesquisas e pelo desenvolvimento de novos projetos. A biblioteca central é gigantesca e possui inúmeros títulos disponíveis para locação e, de acordo com o tipo de formação (graduação, mestrado, doutorado), é possível pegar mais livros. Cada curso possui um centro específico, excepto pelo pessoal da Engenharia que possui o Ciclo Básico para todos os cursos. A universidade ainda disponibiliza moradia para os alunos carentes e que comprovarem não ter condições de se manter. </p> </div> </div>\n",
            "<div class=\"store-comments__item\"> <div class=\"store-comments__origin\"> <div class=\"store-comments__header\"> <div class=\"store-comments__avatar\"> <img alt=\"Miih Moraes\" src=\"https://dmyxv0skgo2mq.cloudfront.net/8153789371/8153789371_6967047183482766586-m.jpg\"/> </div> <p><span class=\"name\">Miih Moraes</span></p> </div> <div class=\"rate-stars\"> <ul> <li><img alt=\"\" src=\"https://newpoi-assets.apontador.com.br/website/assets/img/icons/star-checked.svg\"/></li> <li><img alt=\"\" src=\"https://newpoi-assets.apontador.com.br/website/assets/img/icons/star-checked.svg\"/></li> <li><img alt=\"\" src=\"https://newpoi-assets.apontador.com.br/website/assets/img/icons/star-checked.svg\"/></li> <li><img alt=\"\" src=\"https://newpoi-assets.apontador.com.br/website/assets/img/icons/star-checked.svg\"/></li> <li><img alt=\"\" src=\"https://newpoi-assets.apontador.com.br/website/assets/img/icons/star-checked.svg\"/></li> </ul> <span class=\"rate-stars__amount\">publicada em 23/07/2013</span> </div> </div> <div class=\"store-comments__text\"> <p> Eita como Barao Geraldo e friooooooo aff</p> </div> </div>\n",
            "<div class=\"store-comments__item\"> <div class=\"store-comments__origin\"> <div class=\"store-comments__header\"> <div class=\"store-comments__avatar\"> <img alt=\"Thiago Ganzarolli Da Silva\" src=\"/images/profile_placeholder.svg\"/> </div> <p><span class=\"name\">Thiago Ganzarolli Da Silva</span></p> </div> <div class=\"rate-stars\"> <ul> <li><img alt=\"\" src=\"https://newpoi-assets.apontador.com.br/website/assets/img/icons/star-checked.svg\"/></li> <li><img alt=\"\" src=\"https://newpoi-assets.apontador.com.br/website/assets/img/icons/star-checked.svg\"/></li> <li><img alt=\"\" src=\"https://newpoi-assets.apontador.com.br/website/assets/img/icons/star-checked.svg\"/></li> <li><img alt=\"\" src=\"https://newpoi-assets.apontador.com.br/website/assets/img/icons/star-checked.svg\"/></li> <li><img alt=\"\" src=\"https://newpoi-assets.apontador.com.br/website/assets/img/icons/star-checked.svg\"/></li> </ul> <span class=\"rate-stars__amount\">publicada em 25/11/2011</span> </div> </div> <div class=\"store-comments__text\"> <p>É muito agradável estudar em um campus grande, com muitas locais para estudar: mesas no ciclo básico, biblioteca central ou de outros institutos, uma sala vazia... Uma universidade excelente não só pelo ensino, mas pelos pessoas, colegas e professores que realmente fazem o lugar.</p> </div> </div>\n",
            "<div class=\"store-comments__item\"> <div class=\"store-comments__origin\"> <div class=\"store-comments__header\"> <div class=\"store-comments__avatar\"> <img alt=\"Eduardo M. Maçan\" src=\"https://imagesapt.apontador-assets.com/fit-in/64x64/b266f17f7f5d435fbe62653194d6469b/7604502394.jpg\"/> </div> <p><span class=\"name\">Eduardo M. Maçan</span></p> </div> <div class=\"rate-stars\"> <ul> <li><img alt=\"\" src=\"https://newpoi-assets.apontador.com.br/website/assets/img/icons/star-checked.svg\"/></li> <li><img alt=\"\" src=\"https://newpoi-assets.apontador.com.br/website/assets/img/icons/star-checked.svg\"/></li> <li><img alt=\"\" src=\"https://newpoi-assets.apontador.com.br/website/assets/img/icons/star-checked.svg\"/></li> <li><img alt=\"\" src=\"https://newpoi-assets.apontador.com.br/website/assets/img/icons/star-checked.svg\"/></li> <li><img alt=\"\" src=\"https://newpoi-assets.apontador.com.br/website/assets/img/icons/star-checked.svg\"/></li> </ul> <span class=\"rate-stars__amount\">publicada em 12/09/2010</span> </div> </div> <div class=\"store-comments__text\"> <p>Cursei engenharia de computação na Unicamp e foram os melhores anos da minha vida. O ambiente universitário, a abundância de conhecimento ao meu redor em todas as áreas, tudo isso contribuiu para minha formação, não apenas técnica. Voltaria a qualquer momento e a recomendo para quem quiser usufruir do melhor ensino do país, estando apto a pagar com a dedicação necessária.</p> </div> </div>\n",
            "<div class=\"store-comments__item\"> <div class=\"store-comments__origin\"> <div class=\"store-comments__header\"> <div class=\"store-comments__avatar\"> <img alt=\"Anderson Thees\" src=\"/images/profile_placeholder.svg\"/> </div> <p><span class=\"name\">Anderson Thees</span></p> </div> <div class=\"rate-stars\"> <ul> <li><img alt=\"\" src=\"https://newpoi-assets.apontador.com.br/website/assets/img/icons/star-checked.svg\"/></li> <li><img alt=\"\" src=\"https://newpoi-assets.apontador.com.br/website/assets/img/icons/star-checked.svg\"/></li> <li><img alt=\"\" src=\"https://newpoi-assets.apontador.com.br/website/assets/img/icons/star-checked.svg\"/></li> <li><img alt=\"\" src=\"https://newpoi-assets.apontador.com.br/website/assets/img/icons/star-checked.svg\"/></li> <li><img alt=\"\" src=\"https://newpoi-assets.apontador.com.br/website/assets/img/icons/star-checked.svg\"/></li> </ul> <span class=\"rate-stars__amount\">publicada em 19/08/2010</span> </div> </div> <div class=\"store-comments__text\"> <p>A UNICAMP é uma universidade muito boa. O fato de estar um pouco distante de Campinas (40 mins) promove uma experiência diferenciada, criando uma comunidade muito mais engajada. A qualidade do ensino é de padrão mundial. Orgulho de ser ex-aluno!</p> </div> </div>\n"
          ]
        }
      ]
    }
  ]
}